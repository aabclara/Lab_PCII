{
 "cells": [
  {
   "cell_type": "code",
   "execution_count": null,
   "metadata": {},
   "outputs": [
    {
     "name": "stdout",
     "output_type": "stream",
     "text": [
      "oi mo, te amo <3\n"
     ]
    }
   ],
   "source": [
    "nome = input(\"Digite seu nome: \")\n",
    "nome = nome.upper()\n",
    "if nome == 'CRISTIAN':\n",
    "    print(\"oi mo, te amo <3\")\n",
    "else: \n",
    "    print(\"resposta errada\")"
   ]
  },
  {
   "cell_type": "code",
   "execution_count": null,
   "metadata": {},
   "outputs": [
    {
     "name": "stdout",
     "output_type": "stream",
     "text": [
      "O nome não começa com 'C'\n"
     ]
    }
   ],
   "source": [
    "nome = input(\"Digite seu nome: \")\n",
    "nome = nome.upper()\n",
    "\n",
    "if nome.startswith('C'):  # Método correto: 'startswith'\n",
    "    print(\"O nome começa com C\")\n",
    "else:\n",
    "    print(\"O nome não começa com 'C'\")"
   ]
  },
  {
   "cell_type": "code",
   "execution_count": 10,
   "metadata": {},
   "outputs": [
    {
     "name": "stdout",
     "output_type": "stream",
     "text": [
      "O nome não termina com 'a'\n"
     ]
    }
   ],
   "source": [
    "nome = input(\"Digite seu nome: \")\n",
    "nome = nome.upper()\n",
    "\n",
    "if nome.endswith('a'):  \n",
    "    print(\"O nome termina com a\")\n",
    "else:\n",
    "    print(\"O nome não termina com 'a'\")"
   ]
  },
  {
   "cell_type": "code",
   "execution_count": 14,
   "metadata": {},
   "outputs": [
    {
     "name": "stdout",
     "output_type": "stream",
     "text": [
      "Quantidade de 'a' na frase escrita: 5\n",
      "3\n"
     ]
    }
   ],
   "source": [
    "frase = input(\"Escreva uma frase: \")\n",
    "frase = frase.lower()\n",
    "cont = 0\n",
    "\n",
    "for x in frase:\n",
    "    if x == 'a':\n",
    "        cont += 1\n",
    "\n",
    "print(f\"Quantidade de 'a' na frase escrita: {cont}\")\n",
    "print(posi)\n"
   ]
  },
  {
   "cell_type": "code",
   "execution_count": null,
   "metadata": {},
   "outputs": [
    {
     "name": "stdout",
     "output_type": "stream",
     "text": [
      "Quantidade de 'a' na frase escrita: 5\n",
      "['o s', 'po c', 'iu n', ' l', 'go', '']\n"
     ]
    }
   ],
   "source": [
    "frase = input(\"Escreva uma frase: \")\n",
    "frase = frase.lower()\n",
    "cont = 0\n",
    "\n",
    "frase_separada = frase.split('a')\n",
    "for x in frase:\n",
    "    if x == 'a':\n",
    "        cont += 1\n",
    "\n",
    "print(f\"Quantidade de 'a' na frase escrita: {cont}\")\n",
    "print(frase_separada)\n"
   ]
  },
  {
   "cell_type": "code",
   "execution_count": null,
   "metadata": {},
   "outputs": [
    {
     "name": "stdout",
     "output_type": "stream",
     "text": [
      "Frase: o sapo caiu na lagoa\n",
      "Quantidade de vogais na frase: 10\n",
      "Quantidade de consoantes na frase: 6\n"
     ]
    }
   ],
   "source": [
    "frase = input(\"Escreva uma frase: \")\n",
    "frase = frase.lower()\n",
    "\n",
    "vogais = ['a', 'e', 'i', 'o', 'u']\n",
    "cont_vog = 0\n",
    "cont_cons = 0\n",
    "\n",
    "for x in frase:\n",
    "    if x.isalpha():  # Verifica se é uma letra (ignorando números, espaços e pontuação)\n",
    "        if x in vogais:\n",
    "            cont_vog += 1\n",
    "        else:\n",
    "            cont_cons += 1\n",
    "\n",
    "print(f\"Frase: {frase}\")\n",
    "print(f\"Quantidade de vogais na frase: {cont_vog}\")\n",
    "print(f\"Quantidade de consoantes na frase: {cont_cons}\")\n"
   ]
  },
  {
   "cell_type": "code",
   "execution_count": null,
   "metadata": {},
   "outputs": [
    {
     "name": "stdout",
     "output_type": "stream",
     "text": [
      "Frase: o sapo caiu na lagoa\n",
      "Quantidade de a: 5\n",
      "Quantidade de e: 0\n",
      "Quantidade de i: 1\n",
      "Quantidade de o: 3\n",
      "Quantidade de u: 1\n"
     ]
    }
   ],
   "source": [
    "frase = input(\"Escreva uma frase: \")\n",
    "frase = frase.lower()\n",
    "\n",
    "vogais = ['a', 'e', 'i', 'o', 'u']\n",
    "cont_vogais = [0, 0, 0, 0, 0]\n",
    "outros = 0\n",
    "\n",
    "for x in frase:\n",
    "    if x.isalpha():  \n",
    "        if x == vogais[0]:\n",
    "            cont_vogais[0] += 1\n",
    "        elif x == vogais[1]:\n",
    "            cont_vogais[1] += 1\n",
    "        elif x == vogais[2]:\n",
    "            cont_vogais[2] += 1\n",
    "        elif x == vogais[3]:\n",
    "            cont_vogais[3] += 1\n",
    "        elif x == vogais[4]:\n",
    "            cont_vogais[4] += 1\n",
    "    else:\n",
    "        outros += 1\n",
    "\n",
    "print(f\"Frase: {frase}\")\n",
    "for i in range(len(vogais)):\n",
    "    print(f\"Quantidade de {vogais[i]}: {cont_vogais[i]}\")\n"
   ]
  },
  {
   "cell_type": "code",
   "execution_count": 25,
   "metadata": {},
   "outputs": [
    {
     "name": "stdout",
     "output_type": "stream",
     "text": [
      "Frase: o sapo caiu na lagoa\n",
      "Quantidade de 'a':  5\n",
      "Quantidade de 'e':  0\n",
      "Quantidade de 'i':  1\n",
      "Quantidade de 'o':  3\n",
      "Quantidade de 'u':  1\n"
     ]
    }
   ],
   "source": [
    "frase = input(\"Escreva uma frase: \")\n",
    "frase = frase.lower()\n",
    "\n",
    "vogais = ['a', 'e', 'i', 'o', 'u']\n",
    "cont_vogais = [0, 0, 0, 0, 0]\n",
    "outros = 0\n",
    "\n",
    "print(f\"Frase: {frase}\")\n",
    "print(f\"Quantidade de 'a': \", frase.count('a'))\n",
    "print(f\"Quantidade de 'e': \", frase.count('e'))\n",
    "print(f\"Quantidade de 'i': \", frase.count('i'))\n",
    "print(f\"Quantidade de 'o': \", frase.count('o'))\n",
    "print(f\"Quantidade de 'u': \", frase.count('u'))\n"
   ]
  },
  {
   "cell_type": "code",
   "execution_count": 27,
   "metadata": {},
   "outputs": [
    {
     "name": "stdout",
     "output_type": "stream",
     "text": [
      "Frase: o sapo caiu na lagoa\n",
      "Quantidade de vogais na frase: 10\n",
      "Quantidade de consoantes na frase: 6\n"
     ]
    }
   ],
   "source": [
    "frase = input(\"Escreva uma frase: \")\n",
    "frase = frase.lower()\n",
    "\n",
    "vogais = ['a', 'e', 'i', 'o', 'u']\n",
    "cont_vog = 0\n",
    "cont_cons = 0\n",
    "\n",
    "for x in frase:  \n",
    "    if x == ' ':\n",
    "        continue\n",
    "    if x in vogais:\n",
    "        cont_vog += 1\n",
    "    else:\n",
    "        cont_cons += 1\n",
    "\n",
    "print(f\"Frase: {frase}\")\n",
    "print(f\"Quantidade de vogais na frase: {cont_vog}\")\n",
    "print(f\"Quantidade de consoantes na frase: {cont_cons}\")"
   ]
  },
  {
   "cell_type": "code",
   "execution_count": 31,
   "metadata": {},
   "outputs": [
    {
     "name": "stdout",
     "output_type": "stream",
     "text": [
      "0-2-4-6-8-10-12-14-16-18-"
     ]
    }
   ],
   "source": [
    "\n",
    "for i in range(0, 20, 2):\n",
    "    print(i, end=\"-\")"
   ]
  },
  {
   "cell_type": "code",
   "execution_count": 36,
   "metadata": {},
   "outputs": [
    {
     "name": "stdout",
     "output_type": "stream",
     "text": [
      "25\n"
     ]
    }
   ],
   "source": [
    "# função lambda que retorna o quadrado de um número\n",
    "quadrado = lambda i: i ** 2\n",
    "# Usando a função lambda\n",
    "resultado = quadrado(5)\n",
    "print(resultado)  \n",
    "# Saída: 25"
   ]
  },
  {
   "cell_type": "code",
   "execution_count": 38,
   "metadata": {},
   "outputs": [
    {
     "name": "stdout",
     "output_type": "stream",
     "text": [
      "A raiz quadrada de 25 é: 5.0\n"
     ]
    }
   ],
   "source": [
    "import math\n",
    "numero = 25\n",
    "raiz_quadrada = math.sqrt(numero)\n",
    "print(f\"A raiz quadrada de {numero} é: {raiz_quadrada}\")"
   ]
  },
  {
   "cell_type": "code",
   "execution_count": 41,
   "metadata": {},
   "outputs": [
    {
     "name": "stdout",
     "output_type": "stream",
     "text": [
      "[1, 1, 2, 3, 3, 4, 5, 5, 5, 6, 9]\n"
     ]
    }
   ],
   "source": [
    "numeros = [3, 1, 4, 1, 5, 9, 2, 6, 5, 3, 5]\n",
    "numeros_ordenados = sorted(numeros)\n",
    "print(numeros_ordenados)"
   ]
  },
  {
   "cell_type": "code",
   "execution_count": 42,
   "metadata": {},
   "outputs": [
    {
     "name": "stdout",
     "output_type": "stream",
     "text": [
      "['maçã', 'banana', 'laranja', 'abacaxi']\n"
     ]
    }
   ],
   "source": [
    "palavras = [\"banana\", \"maçã\", \"laranja\", \"abacaxi\"]\n",
    "palavras_ordenadas = sorted(palavras, key=len)\n",
    "print(palavras_ordenadas)"
   ]
  }
 ],
 "metadata": {
  "kernelspec": {
   "display_name": "Python 3",
   "language": "python",
   "name": "python3"
  },
  "language_info": {
   "codemirror_mode": {
    "name": "ipython",
    "version": 3
   },
   "file_extension": ".py",
   "mimetype": "text/x-python",
   "name": "python",
   "nbconvert_exporter": "python",
   "pygments_lexer": "ipython3",
   "version": "3.13.0"
  }
 },
 "nbformat": 4,
 "nbformat_minor": 2
}
