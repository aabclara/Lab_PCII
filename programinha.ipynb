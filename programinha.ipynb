{
 "cells": [
  {
   "cell_type": "code",
   "execution_count": null,
   "metadata": {},
   "outputs": [
    {
     "name": "stdout",
     "output_type": "stream",
     "text": [
      "oi mo, te amo <3\n"
     ]
    }
   ],
   "source": [
    "nome = input(\"Digite seu nome: \")\n",
    "nome = nome.upper()\n",
    "if nome == 'CRISTIAN':\n",
    "    print(\"oi mo, te amo <3\")\n",
    "else: \n",
    "    print(\"resposta errada\")"
   ]
  },
  {
   "cell_type": "code",
   "execution_count": null,
   "metadata": {},
   "outputs": [
    {
     "name": "stdout",
     "output_type": "stream",
     "text": [
      "O nome não começa com 'C'\n"
     ]
    }
   ],
   "source": [
    "nome = input(\"Digite seu nome: \")\n",
    "nome = nome.upper()\n",
    "\n",
    "if nome.startswith('C'):  # Método correto: 'startswith'\n",
    "    print(\"O nome começa com C\")\n",
    "else:\n",
    "    print(\"O nome não começa com 'C'\")"
   ]
  },
  {
   "cell_type": "code",
   "execution_count": 10,
   "metadata": {},
   "outputs": [
    {
     "name": "stdout",
     "output_type": "stream",
     "text": [
      "O nome não termina com 'a'\n"
     ]
    }
   ],
   "source": [
    "nome = input(\"Digite seu nome: \")\n",
    "nome = nome.upper()\n",
    "\n",
    "if nome.endswith('a'):  \n",
    "    print(\"O nome termina com a\")\n",
    "else:\n",
    "    print(\"O nome não termina com 'a'\")"
   ]
  },
  {
   "cell_type": "code",
   "execution_count": 14,
   "metadata": {},
   "outputs": [
    {
     "name": "stdout",
     "output_type": "stream",
     "text": [
      "Quantidade de 'a' na frase escrita: 5\n",
      "3\n"
     ]
    }
   ],
   "source": [
    "frase = input(\"Escreva uma frase: \")\n",
    "frase = frase.lower()\n",
    "cont = 0\n",
    "\n",
    "for x in frase:\n",
    "    if x == 'a':\n",
    "        cont += 1\n",
    "\n",
    "print(f\"Quantidade de 'a' na frase escrita: {cont}\")\n",
    "print(posi)\n"
   ]
  },
  {
   "cell_type": "code",
   "execution_count": null,
   "metadata": {},
   "outputs": [
    {
     "name": "stdout",
     "output_type": "stream",
     "text": [
      "Quantidade de 'a' na frase escrita: 5\n",
      "['o s', 'po c', 'iu n', ' l', 'go', '']\n"
     ]
    }
   ],
   "source": [
    "frase = input(\"Escreva uma frase: \")\n",
    "frase = frase.lower()\n",
    "cont = 0\n",
    "\n",
    "frase_separada = frase.split('a')\n",
    "for x in frase:\n",
    "    if x == 'a':\n",
    "        cont += 1\n",
    "\n",
    "print(f\"Quantidade de 'a' na frase escrita: {cont}\")\n",
    "print(frase_separada)\n"
   ]
  },
  {
   "cell_type": "code",
   "execution_count": null,
   "metadata": {},
   "outputs": [
    {
     "name": "stdout",
     "output_type": "stream",
     "text": [
      "Frase: o sapo caiu na lagoa\n",
      "Quantidade de vogais na frase: 10\n",
      "Quantidade de consoantes na frase: 6\n"
     ]
    }
   ],
   "source": [
    "frase = input(\"Escreva uma frase: \")\n",
    "frase = frase.lower()\n",
    "\n",
    "vogais = ['a', 'e', 'i', 'o', 'u']\n",
    "cont_vog = 0\n",
    "cont_cons = 0\n",
    "\n",
    "for x in frase:\n",
    "    if x.isalpha():  # Verifica se é uma letra (ignorando números, espaços e pontuação)\n",
    "        if x in vogais:\n",
    "            cont_vog += 1\n",
    "        else:\n",
    "            cont_cons += 1\n",
    "\n",
    "print(f\"Frase: {frase}\")\n",
    "print(f\"Quantidade de vogais na frase: {cont_vog}\")\n",
    "print(f\"Quantidade de consoantes na frase: {cont_cons}\")\n"
   ]
  },
  {
   "cell_type": "code",
   "execution_count": null,
   "metadata": {},
   "outputs": [
    {
     "name": "stdout",
     "output_type": "stream",
     "text": [
      "Frase: o sapo caiu na lagoa\n",
      "Quantidade de a: 5\n",
      "Quantidade de e: 0\n",
      "Quantidade de i: 1\n",
      "Quantidade de o: 3\n",
      "Quantidade de u: 1\n"
     ]
    }
   ],
   "source": [
    "frase = input(\"Escreva uma frase: \")\n",
    "frase = frase.lower()\n",
    "\n",
    "vogais = ['a', 'e', 'i', 'o', 'u']\n",
    "cont_vogais = [0, 0, 0, 0, 0]\n",
    "outros = 0\n",
    "\n",
    "for x in frase:\n",
    "    if x.isalpha():  \n",
    "        if x == vogais[0]:\n",
    "            cont_vogais[0] += 1\n",
    "        elif x == vogais[1]:\n",
    "            cont_vogais[1] += 1\n",
    "        elif x == vogais[2]:\n",
    "            cont_vogais[2] += 1\n",
    "        elif x == vogais[3]:\n",
    "            cont_vogais[3] += 1\n",
    "        elif x == vogais[4]:\n",
    "            cont_vogais[4] += 1\n",
    "    else:\n",
    "        outros += 1\n",
    "\n",
    "print(f\"Frase: {frase}\")\n",
    "for i in range(len(vogais)):\n",
    "    print(f\"Quantidade de {vogais[i]}: {cont_vogais[i]}\")\n"
   ]
  },
  {
   "cell_type": "code",
   "execution_count": 25,
   "metadata": {},
   "outputs": [
    {
     "name": "stdout",
     "output_type": "stream",
     "text": [
      "Frase: o sapo caiu na lagoa\n",
      "Quantidade de 'a':  5\n",
      "Quantidade de 'e':  0\n",
      "Quantidade de 'i':  1\n",
      "Quantidade de 'o':  3\n",
      "Quantidade de 'u':  1\n"
     ]
    }
   ],
   "source": [
    "frase = input(\"Escreva uma frase: \")\n",
    "frase = frase.lower()\n",
    "\n",
    "vogais = ['a', 'e', 'i', 'o', 'u']\n",
    "cont_vogais = [0, 0, 0, 0, 0]\n",
    "outros = 0\n",
    "\n",
    "print(f\"Frase: {frase}\")\n",
    "print(f\"Quantidade de 'a': \", frase.count('a'))\n",
    "print(f\"Quantidade de 'e': \", frase.count('e'))\n",
    "print(f\"Quantidade de 'i': \", frase.count('i'))\n",
    "print(f\"Quantidade de 'o': \", frase.count('o'))\n",
    "print(f\"Quantidade de 'u': \", frase.count('u'))\n"
   ]
  },
  {
   "cell_type": "code",
   "execution_count": 27,
   "metadata": {},
   "outputs": [
    {
     "name": "stdout",
     "output_type": "stream",
     "text": [
      "Frase: o sapo caiu na lagoa\n",
      "Quantidade de vogais na frase: 10\n",
      "Quantidade de consoantes na frase: 6\n"
     ]
    }
   ],
   "source": [
    "frase = input(\"Escreva uma frase: \")\n",
    "frase = frase.lower()\n",
    "\n",
    "vogais = ['a', 'e', 'i', 'o', 'u']\n",
    "cont_vog = 0\n",
    "cont_cons = 0\n",
    "\n",
    "for x in frase:  \n",
    "    if x == ' ':\n",
    "        continue\n",
    "    if x in vogais:\n",
    "        cont_vog += 1\n",
    "    else:\n",
    "        cont_cons += 1\n",
    "\n",
    "print(f\"Frase: {frase}\")\n",
    "print(f\"Quantidade de vogais na frase: {cont_vog}\")\n",
    "print(f\"Quantidade de consoantes na frase: {cont_cons}\")"
   ]
  },
  {
   "cell_type": "code",
   "execution_count": 31,
   "metadata": {},
   "outputs": [
    {
     "name": "stdout",
     "output_type": "stream",
     "text": [
      "0-2-4-6-8-10-12-14-16-18-"
     ]
    }
   ],
   "source": [
    "\n",
    "for i in range(0, 20, 2):\n",
    "    print(i, end=\"-\")"
   ]
  },
  {
   "cell_type": "code",
   "execution_count": 36,
   "metadata": {},
   "outputs": [
    {
     "name": "stdout",
     "output_type": "stream",
     "text": [
      "25\n"
     ]
    }
   ],
   "source": [
    "# função lambda que retorna o quadrado de um número\n",
    "quadrado = lambda i: i ** 2\n",
    "# Usando a função lambda\n",
    "resultado = quadrado(5)\n",
    "print(resultado)  \n",
    "# Saída: 25"
   ]
  },
  {
   "cell_type": "code",
   "execution_count": 38,
   "metadata": {},
   "outputs": [
    {
     "name": "stdout",
     "output_type": "stream",
     "text": [
      "A raiz quadrada de 25 é: 5.0\n"
     ]
    }
   ],
   "source": [
    "import math\n",
    "numero = 25\n",
    "raiz_quadrada = math.sqrt(numero)\n",
    "print(f\"A raiz quadrada de {numero} é: {raiz_quadrada}\")"
   ]
  },
  {
   "cell_type": "code",
   "execution_count": 41,
   "metadata": {},
   "outputs": [
    {
     "name": "stdout",
     "output_type": "stream",
     "text": [
      "[1, 1, 2, 3, 3, 4, 5, 5, 5, 6, 9]\n"
     ]
    }
   ],
   "source": [
    "numeros = [3, 1, 4, 1, 5, 9, 2, 6, 5, 3, 5]\n",
    "numeros_ordenados = sorted(numeros)\n",
    "print(numeros_ordenados)"
   ]
  },
  {
   "cell_type": "code",
   "execution_count": 42,
   "metadata": {},
   "outputs": [
    {
     "name": "stdout",
     "output_type": "stream",
     "text": [
      "['maçã', 'banana', 'laranja', 'abacaxi']\n"
     ]
    }
   ],
   "source": [
    "palavras = [\"banana\", \"maçã\", \"laranja\", \"abacaxi\"]\n",
    "palavras_ordenadas = sorted(palavras, key=len)\n",
    "print(palavras_ordenadas)"
   ]
  },
  {
   "cell_type": "code",
   "execution_count": 1,
   "metadata": {},
   "outputs": [
    {
     "name": "stdout",
     "output_type": "stream",
     "text": [
      "Empregado Criado\n",
      "Destruidor chamado, empregado excluído.\n"
     ]
    }
   ],
   "source": [
    "class Empregado:\n",
    "\tdef __init__(self):\n",
    "\t\tprint(\"Empregado Criado\")\n",
    "\t\t\n",
    "\tdef __del__(self):\n",
    "\t\tprint(\"Destruidor chamado, empregado excluído.\")\n",
    "\t\t\n",
    "Maria = Empregado()\n",
    "del Maria\n",
    "# Saída: Destruidor chamado, empregado excluído."
   ]
  },
  {
   "cell_type": "markdown",
   "metadata": {},
   "source": [
    "### REVISÃO: Avaliação 1"
   ]
  },
  {
   "cell_type": "markdown",
   "metadata": {},
   "source": [
    "Crie um algoritmo que peça ao usuário para inserir nomes e notas de vários estudantes. \n",
    "O programa deve armazenar esses dados em uma lista de dicionários, onde cada dicionário representa um estudante com o nome e a nota dele. \n",
    "Após o cadastro, exiba a média de notas e identifique o nome do estudante com a maior e a menor nota.\n",
    "\n",
    "Conceitos Revisados: Estrutura de listas e dicionários, operações básicas de manipulação, entrada e saída de dados."
   ]
  },
  {
   "cell_type": "code",
   "execution_count": 5,
   "metadata": {},
   "outputs": [
    {
     "name": "stdout",
     "output_type": "stream",
     "text": [
      "Média das notas: 11.00\n",
      "Estudante com maior nota: Clara - Nota: 12.0\n",
      "Estudante com menor nota: Maria - Nota: 10.0\n"
     ]
    }
   ],
   "source": [
    "# Inicializa uma lista para armazenar os estudantes\n",
    "estudantes = []\n",
    "\n",
    "while True:\n",
    "    nome = input(\"Digite o nome do estudante (ou 'sair' para finalizar): \")\n",
    "    if nome.lower() == 'sair':\n",
    "        break\n",
    "    nota = float(input(\"Digite a nota do estudante: \"))\n",
    "    estudantes.append({\"nome\": nome, \"nota\": nota})\n",
    "\n",
    "# Calcula a média, e identifica as maiores e menores notas\n",
    "if estudantes:\n",
    "    total_notas = sum(estudante[\"nota\"] for estudante in estudantes)\n",
    "    media = total_notas / len(estudantes)\n",
    "    \n",
    "    # Encontra o estudante com a maior e a menor nota\n",
    "    estudante_maior_nota = max(estudantes, key=lambda x: x[\"nota\"])\n",
    "    estudante_menor_nota = min(estudantes, key=lambda x: x[\"nota\"])\n",
    "    \n",
    "    print(f\"Média das notas: {media:.2f}\")\n",
    "    print(f\"Estudante com maior nota: {estudante_maior_nota['nome']} - Nota: {estudante_maior_nota['nota']}\")\n",
    "    print(f\"Estudante com menor nota: {estudante_menor_nota['nome']} - Nota: {estudante_menor_nota['nota']}\")\n",
    "else:\n",
    "    print(\"Nenhum estudante foi registrado.\")\n"
   ]
  },
  {
   "cell_type": "markdown",
   "metadata": {},
   "source": [
    "### Questão 2 de REVISÃO I"
   ]
  },
  {
   "cell_type": "markdown",
   "metadata": {},
   "source": [
    "Desenvolva um programa que solicite uma frase ao usuário e, em seguida, conte quantas vogais e consoantes estão presentes na frase. \n",
    "O programa deve também identificar se a frase começa e termina com uma letra específica (a ser definida pelo usuário).\n",
    "\n",
    "Conceitos Revisados: Manipulação de strings (métodos startswith(), endswith(), isalpha()), loops (for), condicionais (if-else) e contagem de caracteres em strings."
   ]
  },
  {
   "cell_type": "code",
   "execution_count": 14,
   "metadata": {},
   "outputs": [
    {
     "name": "stdout",
     "output_type": "stream",
     "text": [
      "Sua frase foi: O SAPO CAIU NA lagoa\n",
      "Sua frase começa com o\n",
      "Sua frase termina com a\n",
      "Quantidade de vogais na sua frase: 10\n",
      "Quantidade de consoantes na sua frase: 6\n"
     ]
    }
   ],
   "source": [
    "frase_user = input(\"Digite uma frase: \")\n",
    "frase = frase_user.lower()\n",
    "inicia = input(\"Escolha uma letra: \")\n",
    "termina = input(\"Escolha outra letra: \")\n",
    "\n",
    "vogais = ('a', 'e', 'i', 'o', 'u')\n",
    "qnt_vogais = 0\n",
    "qntd_consoantes = 0\n",
    "\n",
    "\n",
    "for letra in frase:\n",
    "    if letra == ' ':\n",
    "        continue\n",
    "    if letra in vogais:\n",
    "        qnt_vogais +=1\n",
    "    else: \n",
    "        qntd_consoantes += 1\n",
    "    \n",
    "print(f\"Sua frase foi: {frase_user}\")\n",
    "\n",
    "\n",
    "if frase.startswith(inicia):\n",
    "    print(f\"Sua frase começa com {inicia}\")\n",
    "else: \n",
    "    print(f\"Sua frase não começa com {inicia}\")\n",
    "\n",
    "if frase.endswith(termina):\n",
    "    print(f\"Sua frase termina com {termina}\")\n",
    "else:\n",
    "    print(f\"Sua frase não termina com {termina}\")\n",
    "\n",
    "print(f\"Quantidade de vogais na sua frase: {qnt_vogais}\")\n",
    "print(f\"Quantidade de consoantes na sua frase: {qntd_consoantes}\")\n",
    "\n",
    "        "
   ]
  },
  {
   "cell_type": "code",
   "execution_count": null,
   "metadata": {},
   "outputs": [],
   "source": [
    "# RESPOSTA DO CHAT\n",
    "\n",
    "# Recebe a frase do usuário\n",
    "frase = input(\"Digite uma frase: \").lower()\n",
    "letra_inicio = input(\"Digite a letra inicial para verificação: \").lower()\n",
    "letra_fim = input(\"Digite a letra final para verificação: \").lower()\n",
    "\n",
    "# Inicializa contadores de vogais e consoantes\n",
    "vogais = \"aeiou\"\n",
    "cont_vogais = sum(1 for char in frase if char in vogais and char.isalpha())\n",
    "cont_consoantes = sum(1 for char in frase if char not in vogais and char.isalpha())\n",
    "\n",
    "# Verifica se a frase começa e termina com letras específicas\n",
    "inicio_correto = frase.startswith(letra_inicio)\n",
    "fim_correto = frase.endswith(letra_fim)\n",
    "\n",
    "# Exibe os resultados\n",
    "print(f\"A frase contém {cont_vogais} vogais e {cont_consoantes} consoantes.\")\n",
    "print(f\"A frase começa com '{letra_inicio}': {'Sim' if inicio_correto else 'Não'}\")\n",
    "print(f\"A frase termina com '{letra_fim}': {'Sim' if fim_correto else 'Não'}\")\n"
   ]
  },
  {
   "cell_type": "markdown",
   "metadata": {},
   "source": [
    "### Questão 3 - REVISÃO I"
   ]
  },
  {
   "cell_type": "markdown",
   "metadata": {},
   "source": [
    "Questão: Implemente uma classe chamada Produto que possui atributos para nome, preço e quantidade em estoque. \n",
    "Crie métodos para exibir as informações do produto, adicionar e remover quantidade no estoque, e calcular o valor total do estoque do produto. \n",
    "Instancie objetos e demonstre o uso de cada método.\n",
    "\n",
    "Conceitos Revisados: Programação Orientada a Objetos (POO) - criação de classes, métodos, atributos, encapsulamento e manipulação de objetos."
   ]
  },
  {
   "cell_type": "code",
   "execution_count": 33,
   "metadata": {},
   "outputs": [
    {
     "name": "stdout",
     "output_type": "stream",
     "text": [
      "CADASTRAR PRODUTOS:\n",
      "Saindo...\n",
      "MENU DE OPÇÕES: \n",
      "1- Ver informações do produto\n",
      "2- Checar disponibilidade\n",
      "3- Sair\n",
      "Nome do produto: sair\n"
     ]
    },
    {
     "ename": "NameError",
     "evalue": "name 'preço' is not defined",
     "output_type": "error",
     "traceback": [
      "\u001b[1;31m---------------------------------------------------------------------------\u001b[0m",
      "\u001b[1;31mNameError\u001b[0m                                 Traceback (most recent call last)",
      "Cell \u001b[1;32mIn[33], line 47\u001b[0m\n\u001b[0;32m     45\u001b[0m \u001b[38;5;28;01mif\u001b[39;00m op \u001b[38;5;241m==\u001b[39m \u001b[38;5;241m1\u001b[39m:\n\u001b[0;32m     46\u001b[0m     \u001b[38;5;28mprint\u001b[39m(\u001b[38;5;124mf\u001b[39m\u001b[38;5;124m\"\u001b[39m\u001b[38;5;124mNome do produto: \u001b[39m\u001b[38;5;132;01m{\u001b[39;00mproduto1\u001b[38;5;241m.\u001b[39mget_nomep()\u001b[38;5;132;01m}\u001b[39;00m\u001b[38;5;124m\"\u001b[39m)\n\u001b[1;32m---> 47\u001b[0m     \u001b[38;5;28mprint\u001b[39m(\u001b[38;5;124mf\u001b[39m\u001b[38;5;124m\"\u001b[39m\u001b[38;5;124mPreço do produto: \u001b[39m\u001b[38;5;132;01m{\u001b[39;00m\u001b[43mproduto1\u001b[49m\u001b[38;5;241;43m.\u001b[39;49m\u001b[43mget_preço\u001b[49m\u001b[43m(\u001b[49m\u001b[43m)\u001b[49m\u001b[38;5;132;01m}\u001b[39;00m\u001b[38;5;124m\"\u001b[39m)\n\u001b[0;32m     48\u001b[0m     \u001b[38;5;28mprint\u001b[39m(\u001b[38;5;124mf\u001b[39m\u001b[38;5;124m\"\u001b[39m\u001b[38;5;124mQuantidade em estoque: \u001b[39m\u001b[38;5;132;01m{\u001b[39;00mproduto1\u001b[38;5;241m.\u001b[39mget_qntd_estoque()\u001b[38;5;132;01m}\u001b[39;00m\u001b[38;5;124m\"\u001b[39m)\n\u001b[0;32m     49\u001b[0m \u001b[38;5;28;01mif\u001b[39;00m op \u001b[38;5;241m==\u001b[39m \u001b[38;5;241m2\u001b[39m:\n",
      "Cell \u001b[1;32mIn[33], line 12\u001b[0m, in \u001b[0;36mProduto.get_preço\u001b[1;34m(self)\u001b[0m\n\u001b[0;32m     11\u001b[0m \u001b[38;5;28;01mdef\u001b[39;00m \u001b[38;5;21mget_preço\u001b[39m(\u001b[38;5;28mself\u001b[39m):\n\u001b[1;32m---> 12\u001b[0m     \u001b[38;5;28;01mreturn\u001b[39;00m \u001b[43mpreço\u001b[49m\n",
      "\u001b[1;31mNameError\u001b[0m: name 'preço' is not defined"
     ]
    }
   ],
   "source": [
    "class Produto:\n",
    "    def __init__(self, nome, preço, qntd_estoque):\n",
    "        self.nome = nome.upper()\n",
    "        self.preço = preço\n",
    "        self.qntd_estoque = qntd_estoque\n",
    "        self.disponivel = True if qntd_estoque > 0 else False\n",
    "\n",
    "    def get_nomep(self):\n",
    "        return nome\n",
    "    \n",
    "    def get_preço(self):\n",
    "        return preço\n",
    "\n",
    "    def get_qntd_estoque(self):\n",
    "        return qntd_estoque\n",
    "    \n",
    "    def get_disponivel(self):\n",
    "        return disponivel\n",
    "    \n",
    "    def __del__(self):\n",
    "        return(\"Produto excluído!\")\n",
    "    \n",
    "\n",
    "print(\"CADASTRAR PRODUTOS:\")\n",
    "\n",
    "while True:\n",
    "    nomep = input(\"Nome do produto (Caso deseje sair digite 'sair'): \")\n",
    "    if nomep.lower() == 'sair':\n",
    "        print(\"Saindo...\")\n",
    "        break\n",
    "    precop = float(input(\"Preço do produto: \"))\n",
    "    qntdp = int(input(\"Quantidade em estoque: \"))\n",
    "    produto1 = Produto(nomep, precop, qntdp)\n",
    "\n",
    "print(\"MENU DE OPÇÕES: \")\n",
    "print(\"1- Ver informações do produto\")\n",
    "print(\"2- Checar disponibilidade\")\n",
    "print(\"3- Sair\")\n",
    "\n",
    "while True:\n",
    "    op = int(input(\"Digite sua opção: \"))\n",
    "    if op == 3:\n",
    "        print(\"Saindo...\")\n",
    "        break\n",
    "    if op == 1:\n",
    "        print(f\"Nome do produto: {produto1.get_nomep()}\")\n",
    "        print(f\"Preço do produto: {produto1.get_preço()}\")\n",
    "        print(f\"Quantidade em estoque: {produto1.get_qntd_estoque()}\")\n",
    "    if op == 2:\n",
    "        print(\"Disponível\" if produto1.get_disponivel() else \"Indisponível\")\n",
    "    if op == 3:\n",
    "        print(\"Saindo...\")\n",
    "        break\n",
    "    else:\n",
    "        print(\"Opção inválida. Tente novamente.\")\n",
    "\n",
    "    "
   ]
  }
 ],
 "metadata": {
  "kernelspec": {
   "display_name": "Python 3",
   "language": "python",
   "name": "python3"
  },
  "language_info": {
   "codemirror_mode": {
    "name": "ipython",
    "version": 3
   },
   "file_extension": ".py",
   "mimetype": "text/x-python",
   "name": "python",
   "nbconvert_exporter": "python",
   "pygments_lexer": "ipython3",
   "version": "3.13.0"
  }
 },
 "nbformat": 4,
 "nbformat_minor": 2
}
