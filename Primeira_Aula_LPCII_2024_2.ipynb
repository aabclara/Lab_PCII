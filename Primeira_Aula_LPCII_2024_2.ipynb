{
  "cells": [
    {
      "cell_type": "markdown",
      "metadata": {
        "id": "A7qI4MWO_RK2"
      },
      "source": [
        "# **Por que programar em Python?**\n",
        "\n",
        "* Python é uma linguagem que permite ganhos de produtividade e por isso se torna uma escolha assertiva para competições.\n",
        "* A sintaxe clara e concisa do Python facilita a leitura e escrita de código, permitindo que os desenvolvedores se concentrem mais na lógica do problema do que em detalhes complexos da linguagem.\n",
        "* Além disso, o Python possui uma biblioteca padrão extensa e diversificada, que abrange muitas tarefas comuns, como manipulação de strings, acesso a bancos de dados, manipulação de arquivos e muito mais.\n",
        "* Isso reduz a necessidade de os desenvolvedores escreverem código do zero e acelera o desenvolvimento de projetos.\n",
        "* A filosofia do Python enfatiza a legibilidade do código e a produtividade do desenvolvedor, o que torna a linguagem uma escolha popular para projetos que priorizam entregas rápidas e eficientes.\n",
        "* Python é uma linguagem multiplataforma, o que significa que o código escrito em Python pode ser executado em várias plataformas sem a necessidade de grandes modificações.\n",
        "* Isso permite que os desenvolvedores trabalhem em diferentes sistemas operacionais sem grandes preocupações.\n",
        "* Por fim, Python é frequentemente recomendado como uma das primeiras linguagens de programação para iniciantes, pois sua sintaxe amigável torna o processo de aprendizado mais suave e menos intimidador."
      ]
    },
    {
      "cell_type": "markdown",
      "metadata": {
        "id": "aaqaXDOMNB1q"
      },
      "source": [
        "Observe o programa abaixo, em Linguagem C.\n",
        "\n",
        "\n",
        "\n",
        "```\n",
        "#include <stdio.h>\n",
        "\n",
        "int main() {\n",
        "    int numero, fatorial = 1;\n",
        "\n",
        "    printf(\"Digite um número inteiro para calcular o fatorial: \");\n",
        "    scanf(\"%d\", &numero);\n",
        "\n",
        "    for (int i = 1; i <= numero; i++) {\n",
        "        fatorial *= i;\n",
        "    }\n",
        "\n",
        "    printf(\"O fatorial de %d é %d\\n\", numero, fatorial);\n",
        "\n",
        "    return 0;\n",
        "}\n",
        "\n",
        "```\n",
        "O que faz o programa? Agora observe o mesmo programa em Python e aponte as diferenças.\n"
      ]
    },
    {
      "cell_type": "code",
      "execution_count": 1,
      "metadata": {
        "id": "tONXF1yENhES"
      },
      "outputs": [
        {
          "name": "stdout",
          "output_type": "stream",
          "text": [
            "O fatorial de 5 é 120\n"
          ]
        }
      ],
      "source": [
        "numero = int(input(\"Digite um número inteiro para calcular o fatorial: \"))\n",
        "fatorial = 1\n",
        "\n",
        "for i in range(1, numero + 1):\n",
        "    fatorial *= i\n",
        "\n",
        "print(f\"O fatorial de {numero} é {fatorial}\")"
      ]
    },
    {
      "cell_type": "markdown",
      "metadata": {
        "id": "euGUGUOaIDVr"
      },
      "source": [
        "Observe o mesmo programa, em Linguagem C, escrito de outra forma.\n",
        "\n",
        "```\n",
        "#include <stdio.h>\n",
        "int fatorial(int n) {\n",
        "  if (n == 0) {\n",
        "    return 1;\n",
        "    } else {\n",
        "        return n * fatorial(n - 1);\n",
        "    }\n",
        "}\n",
        "\n",
        "int main() {\n",
        "    int numero, resultado;\n",
        "\n",
        "    printf(\"Digite um número inteiro para calcular o fatorial: \");\n",
        "    scanf(\"%d\", &numero);\n",
        "\n",
        "    resultado = fatorial(numero);\n",
        "\n",
        "    printf(\"O fatorial de %d é %d\\n\", numero, resultado);\n",
        "\n",
        "    return 0;\n",
        "}\n",
        "```\n",
        "Agora, observe o mesmo programa em Python. Quais são as características e diferenças que mais saltam aos olhos?"
      ]
    },
    {
      "cell_type": "code",
      "execution_count": 2,
      "metadata": {
        "id": "P_tw2VD7-V36"
      },
      "outputs": [
        {
          "name": "stdout",
          "output_type": "stream",
          "text": [
            "O fatorial de 5 é 120\n"
          ]
        }
      ],
      "source": [
        "def fatorial(n): return 1 if n == 0 else n * fatorial(n - 1)\n",
        "\n",
        "numero = int(input(\"Digite um número inteiro para calcular o fatorial: \"))\n",
        "resultado = fatorial(numero)\n",
        "print(f\"O fatorial de {numero} é {resultado}\")"
      ]
    },
    {
      "cell_type": "markdown",
      "metadata": {
        "id": "p1YB15OHS_nc"
      },
      "source": [
        "# Comparação entre Python e C\n",
        "\n",
        "**Sintaxe:**\n",
        "A Linguagem C usa chaves para delimitar blocos de código, sendo a indentação uma questão de estilo, não afetando a estrutura do código.\n",
        "\n",
        "```\n",
        "if (x > 5) {\n",
        "    printf(\"x é maior que 5\");\n",
        "} else {\n",
        "    printf(\"x é menor ou igual a 5\");\n",
        "}\n",
        "\n",
        "```\n",
        "O Python, por sua vez, é conhecido por sua sintaxe limpa e legível, utilizando indentação significativa (espaços ou tabs) para definir blocos de código em vez de delimitadores como chaves.\n",
        "\n",
        "```\n",
        "if x > 5:\n",
        "    print(\"x é maior que 5\")\n",
        "else:\n",
        "    print(\"x é menor ou igual a 5\")\n",
        "\n",
        "```\n",
        "**Estruturas de Controle:**\n",
        "A Linguagem C oferece estruturas de controle como if-else, loops (for, while e do-while), switch-case e outras. O Python tem uma variedade de estruturas de controle, incluindo if-else, loops (for e while) e outras construções úteis para o controle de fluxo.\n",
        "\n",
        "**Tipos de Dados:**\n",
        "A Linguagem C é  estaticamente tipada, onde o tipo de cada variável é definido em tempo de compilação, permitindo operações entre tipos diferentes sem muitas restrições. A Linguagem C possui tipos de dados básicos como int, float, char, bem como a capacidade de criar estruturas e uniões personalizadas.\n",
        "\n",
        "```\n",
        "int x = 10;\n",
        "char name[] = \"John\";\n",
        "int matriz[] = {1, 2, 3};\n",
        "```\n",
        "Já o Python é uma linguagem dinamicamente tipada, o que significa que o tipo de uma variável é determinado em tempo de execução. Além disso, Python tem uma tipagem forte, o que impede operações entre tipos incompatíveis. Python possui tipos de dados como inteiros, floats, strings, listas, tuplas, dicionários, entre outras.\n",
        "\n",
        "```\n",
        "x = 10\n",
        "name = \"John\"\n",
        "my_list = [1, 2, 3]\n",
        "\n",
        "```\n",
        "\n",
        "Em Linguagem C o comentário é realizado através de //, enquanto no Python utiliza-se #.\n"
      ]
    },
    {
      "cell_type": "markdown",
      "metadata": {
        "id": "m4Vid4mxPOBU"
      },
      "source": [
        "# Meu primeiro programa em Python\n",
        "Geralmente, o primeiro programa de um programador é o famoso Hello Word. Provavelmente no último semestre você se deparou com algo assim:\n",
        "\n",
        "\n",
        "```\n",
        "#include <stdio.h>\n",
        "\n",
        "int main() {\n",
        "    printf(\"Hello, World!\\n\");\n",
        "    return 0;\n",
        "}\n",
        "```\n",
        "\n",
        "A seguir, faça o Hello Word em Python."
      ]
    },
    {
      "cell_type": "code",
      "execution_count": 3,
      "metadata": {
        "id": "hqcZa5Szm2wC"
      },
      "outputs": [
        {
          "name": "stdout",
          "output_type": "stream",
          "text": [
            "Hellow World!\n"
          ]
        }
      ],
      "source": [
        "print(\"Hellow World!\")"
      ]
    },
    {
      "cell_type": "markdown",
      "metadata": {
        "id": "Ln0dQoZsP-fQ"
      },
      "source": [
        "# Traduzindo programas de Linguagem C para Python\n",
        "\n",
        "Traduza os programas a seguir de Linguagem C para Python.\n",
        "\n",
        "1)\n",
        "\n",
        "\n",
        "```\n",
        "#include <stdio.h>\n",
        "\n",
        "int main() {\n",
        "    double num1, num2, num3, media;\n",
        "\n",
        "    printf(\"Digite o primeiro número: \");\n",
        "    scanf(\"%lf\", &num1);\n",
        "\n",
        "    printf(\"Digite o segundo número: \");\n",
        "    scanf(\"%lf\", &num2);\n",
        "\n",
        "    printf(\"Digite o terceiro número: \");\n",
        "    scanf(\"%lf\", &num3);\n",
        "\n",
        "     media = (num1 + num2 + num3) / 3.0;\n",
        "\n",
        "    printf(\"A média dos três números é: %.2lf\\n\", media);\n",
        "\n",
        "    return 0;\n",
        "}\n",
        "\n",
        "```\n",
        "\n"
      ]
    },
    {
      "cell_type": "code",
      "execution_count": 2,
      "metadata": {
        "id": "A1LyXXfQm5YR"
      },
      "outputs": [
        {
          "name": "stdout",
          "output_type": "stream",
          "text": [
            "A média dos três números é: 5.33\n"
          ]
        }
      ],
      "source": [
        "num1 = float(input(\"Digite o primeiro número: \"))\n",
        "num2 = float(input(\"Digite o segundo número: \"))\n",
        "num3 = float(input(\"Digite o terceiro número: \"))\n",
        "\n",
        "media = ((num1 + num2 + num3) / 3.0)\n",
        "\n",
        "print(f\"A média dos três números é: {media:.2f}\")"
      ]
    },
    {
      "cell_type": "markdown",
      "metadata": {
        "id": "8QHQAgiJSdQy"
      },
      "source": [
        "2)\n",
        "\n",
        "\n",
        "```\n",
        "#include <stdio.h>\n",
        "\n",
        "int main() {\n",
        "    double deposito_inicial, taxa_juros, saldo_atual, total_juros = 0.0;\n",
        "\n",
        "    printf(\"Digite o valor do depósito inicial: \");\n",
        "    scanf(\"%lf\", &deposito_inicial);\n",
        "\n",
        "    printf(\"Digite a taxa de juros (em decimal): \");\n",
        "    scanf(\"%lf\", &taxa_juros);\n",
        "\n",
        "    saldo_atual = deposito_inicial;\n",
        "\n",
        "    printf(\"\\nMês 1 - Saldo: %.2lf\\n\", saldo_atual);\n",
        "\n",
        "    for (int mes = 2; mes <= 24; mes++) {\n",
        "        saldo_atual += saldo_atual * taxa_juros;\n",
        "        total_juros += saldo_atual * taxa_juros;\n",
        "        printf(\"Mês %d - Saldo: %.2lf\\n\", mes, saldo_atual);\n",
        "    }\n",
        "\n",
        "    printf(\"\\nTotal ganho com juros em 24 meses: %.2lf\\n\", total_juros);\n",
        "\n",
        "    return 0;\n",
        "}\n",
        "\n",
        "```\n",
        "\n"
      ]
    },
    {
      "cell_type": "code",
      "execution_count": 5,
      "metadata": {
        "id": "sNE3Biz6m6T9"
      },
      "outputs": [
        {
          "name": "stdout",
          "output_type": "stream",
          "text": [
            "\n",
            "Mês 1 - Saldo: 100.00\n",
            "Mês 2 - Saldo: 600.00\n",
            "Mês 3 - Saldo: 3600.00\n",
            "Mês 4 - Saldo: 21600.00\n",
            "Mês 5 - Saldo: 129600.00\n",
            "Mês 6 - Saldo: 777600.00\n",
            "Mês 7 - Saldo: 4665600.00\n",
            "Mês 8 - Saldo: 27993600.00\n",
            "Mês 9 - Saldo: 167961600.00\n",
            "Mês 10 - Saldo: 1007769600.00\n",
            "Mês 11 - Saldo: 6046617600.00\n",
            "Mês 12 - Saldo: 36279705600.00\n",
            "Mês 13 - Saldo: 217678233600.00\n",
            "Mês 14 - Saldo: 1306069401600.00\n",
            "Mês 15 - Saldo: 7836416409600.00\n",
            "Mês 16 - Saldo: 47018498457600.00\n",
            "Mês 17 - Saldo: 282110990745600.00\n",
            "Mês 18 - Saldo: 1692665944473600.00\n",
            "Mês 19 - Saldo: 10155995666841600.00\n",
            "Mês 20 - Saldo: 60935974001049600.00\n",
            "Mês 21 - Saldo: 365615844006297600.00\n",
            "Mês 22 - Saldo: 2193695064037785600.00\n",
            "Mês 23 - Saldo: 13162170384226713600.00\n",
            "Mês 24 - Saldo: 78973022305360281600.00\n",
            "Total ganho com juros em 24 meses: 78973022305360281600.00\n"
          ]
        }
      ],
      "source": [
        "dep_inicial = float(input(\"Valor do depósito inicial: \"))\n",
        "taxa_juros = float(input(\"Taxa de juros: \"))\n",
        "\n",
        "saldo_atual = dep_inicial\n",
        "\n",
        "total_juros = 0.0\n",
        "\n",
        "print(f\"\\nMês 1 - Saldo: {saldo_atual:.2f}\")\n",
        "\n",
        "for mes in range(2, 25): # até <25 que no caso é 24\n",
        "    total_juros += saldo_atual * taxa_juros\n",
        "    saldo_atual += saldo_atual * taxa_juros\n",
        "    print(f\"Mês {mes} - Saldo: {saldo_atual:.2f}\")\n",
        "\n",
        "print(f\"Total ganho com juros em 24 meses: {total_juros:.2f}\")"
      ]
    },
    {
      "cell_type": "markdown",
      "metadata": {
        "id": "lmMr3RZQRIsd"
      },
      "source": [
        "\n",
        "3)\n",
        "```\n",
        "#include <stdio.h>\n",
        "\n",
        "int main() {\n",
        "    int n, i, fib, a = 0, b = 1;\n",
        "\n",
        "    printf(\"Digite o valor de 'n' para gerar os primeiros 'n' números da série de Fibonacci: \");\n",
        "    scanf(\"%d\", &n);\n",
        "\n",
        "    printf(\"Os primeiros %d números da série de Fibonacci são:\\n\", n);\n",
        "\n",
        "    for (i = 0; i < n; i++) {\n",
        "        if (i <= 1) {\n",
        "            fib = i;\n",
        "        } else {\n",
        "            fib = a + b;\n",
        "            a = b;\n",
        "            b = fib;\n",
        "        }\n",
        "\n",
        "        printf(\"%d \", fib);\n",
        "    }\n",
        "\n",
        "    printf(\"\\n\");\n",
        "\n",
        "    return 0;\n",
        "}\n",
        "\n",
        "```\n",
        "\n"
      ]
    },
    {
      "cell_type": "code",
      "execution_count": 12,
      "metadata": {
        "id": "zV3SiVJVm7M5"
      },
      "outputs": [
        {
          "name": "stdout",
          "output_type": "stream",
          "text": [
            "Os primeiros 5 números da série de Fibonacci são:\n",
            "\n",
            "0 1 1 2 3 \n",
            "\n"
          ]
        }
      ],
      "source": [
        "n = int(input(\"Digite o valor de 'n' para gerar os primeiros 'n' números da série de Fibonacci: \"))\n",
        "a = 0\n",
        "b = 1\n",
        "\n",
        "# alt: a, b = 0, 1\n",
        "\n",
        "print(f\"Os primeiros {n} números da série de Fibonacci são:\\n\")\n",
        "\n",
        "for i in range(n):\n",
        "    if i <= 1:\n",
        "        fib = i\n",
        "    else:\n",
        "        fib = (a + b)\n",
        "        a = b\n",
        "        b = fib\n",
        "    print(fib, end=\" \")\n",
        "    # print(f\"{fib}\")\n",
        "print(f\"\\n\")"
      ]
    },
    {
      "cell_type": "markdown",
      "metadata": {
        "id": "6k54frQIWclK"
      },
      "source": [
        "# Entrada e Saída de Dados em Python\n",
        "A função input() é usada para receber dados inseridos pelo usuário durante a execução do programa. Input recebe os valores como string e, portanto, caso você queira que o valor seja transformado em inteiro você deve utilizar a função int (ou float, se possuir ponto flutuante, como em: nota = float(input(\"Digite sua nota em Programação de Computadores I:\"))). Ela aguarda que o usuário insira uma linha de texto e pressione \"Enter\".\n",
        "A função print() é usada para exibir informações na tela do console ou terminal. Ela pode imprimir texto, valores de variáveis e combinações de ambos. Você pode usar formatação de strings para exibir os valores das variáveis de forma mais clara e legível."
      ]
    },
    {
      "cell_type": "code",
      "execution_count": 1,
      "metadata": {
        "id": "KPuT8KTAW-Mq"
      },
      "outputs": [
        {
          "name": "stdout",
          "output_type": "stream",
          "text": [
            "Olá, Clara! Você tem 19 anos.\n"
          ]
        }
      ],
      "source": [
        "nome = input(\"Digite seu nome: \")\n",
        "idade = int(input(\"Digite sua idade: \"))\n",
        "print(f\"Olá, {nome}! Você tem {idade} anos.\")"
      ]
    },
    {
      "cell_type": "code",
      "execution_count": 13,
      "metadata": {
        "id": "1nx_b7VJXDX9"
      },
      "outputs": [
        {
          "name": "stdout",
          "output_type": "stream",
          "text": [
            "O nome é Eduardo e a idade é 22.\n"
          ]
        }
      ],
      "source": [
        "nome = \"Eduardo\"\n",
        "idade = 22\n",
        "print(f\"O nome é {nome} e a idade é {idade}.\")\n"
      ]
    },
    {
      "cell_type": "markdown",
      "metadata": {
        "id": "1aMxMH2kXvj7"
      },
      "source": [
        "# Estruturas de Controle Condicionais\n",
        "O if é a estrutura mais básica de controle condicional. Ele verifica uma condição e executa um bloco de código somente se a condição for verdadeira.\n",
        "O if-else permite que você execute um bloco de código se a condição for verdadeira e outro bloco de código se a condição for falsa.\n",
        "O if-elif-else é útil quando você precisa verificar várias condições sequencialmente. Ele permite que você teste várias condições e execute diferentes blocos de código com base na primeira condição verdadeira encontrada."
      ]
    },
    {
      "cell_type": "code",
      "execution_count": 3,
      "metadata": {
        "id": "_vbhLeBqYGsS"
      },
      "outputs": [
        {
          "name": "stdout",
          "output_type": "stream",
          "text": [
            "Você tirou B.\n"
          ]
        }
      ],
      "source": [
        "nota = float(input(\"Digite sua nota em Programação de Computadores I:\"))\n",
        "if nota >= 90:\n",
        "    print(\"Parabéns! Você tirou A.\")\n",
        "elif nota >= 80:\n",
        "    print(\"Você tirou B.\")\n",
        "elif nota >= 70:\n",
        "    print(\"Você tirou C.\")\n",
        "else:\n",
        "    print(\"Infelizmente, você tirou D.\")\n"
      ]
    },
    {
      "cell_type": "markdown",
      "metadata": {
        "id": "DXeeFL2KZTRR"
      },
      "source": [
        "No exemplo do programa fatorial utilizando recursão, foi utilizado o operador ternário. O operador ternário é uma forma concisa de escrever uma estrutura de controle condicional com apenas uma linha. Ele retorna um valor com base em uma condição."
      ]
    },
    {
      "cell_type": "code",
      "execution_count": null,
      "metadata": {
        "id": "Ne1EDnCmZeXr"
      },
      "outputs": [],
      "source": [
        "idade = 20\n",
        "status = \"Maior de idade\" if idade >= 18 else \"Menor de idade\"\n",
        "print(status)\n"
      ]
    },
    {
      "cell_type": "markdown",
      "metadata": {
        "id": "srUQQn7caVUQ"
      },
      "source": [
        "Escreva um programa que solicite ao usuário os comprimentos dos lados de um triângulo e verifique se é possível formar um triângulo com esses lados. Se for possível, exiba a classificação do triângulo com base nos lados (equilátero, isósceles ou escaleno). Para formar um triângulo, a soma de quaisquer dois lados deve ser maior do que o terceiro lado. Um triângulo é considerado escaleno quando todos os seus lados têm comprimentos diferentes. Já um triângulo é considerado isósceles quando possui dois lados com o mesmo comprimento e um terceiro lado com comprimento diferente."
      ]
    },
    {
      "cell_type": "code",
      "execution_count": 7,
      "metadata": {
        "id": "5siRbninoClI"
      },
      "outputs": [
        {
          "name": "stdout",
          "output_type": "stream",
          "text": [
            "O triângulo informado é: Equilátero\n"
          ]
        }
      ],
      "source": [
        "lado_A = float(input(\"Digite o primeiro lado do triângulo: \"))\n",
        "lado_B = float(input(\"Digite o segundo lado do triângulo: \"))\n",
        "lado_C = float(input(\"Digite o terceiro lado do triângulo: \"))\n",
        "\n",
        "if (lado_A + lado_B > lado_C) and (lado_A + lado_B > lado_C) and (lado_B + lado_C > lado_A):\n",
        "    if lado_A == lado_B == lado_C:\n",
        "        tipo = \"Equilátero\"\n",
        "    elif lado_A != lado_B != lado_C:\n",
        "        tipo = \"Escaleno\" \n",
        "    elif lado_A == lado_B or lado_A == lado_C or lado_B == lado_C:\n",
        "        tipo = \"Isósceles\"\n",
        "    else:\n",
        "        print(\"Não é possível formar um triângulo com esses lados.\")\n",
        "\n",
        "print(f\"O triângulo informado é: {tipo}\")"
      ]
    },
    {
      "cell_type": "code",
      "execution_count": 11,
      "metadata": {},
      "outputs": [
        {
          "ename": "IndentationError",
          "evalue": "expected an indented block after function definition on line 6 (623257745.py, line 7)",
          "output_type": "error",
          "traceback": [
            "\u001b[1;36m  Cell \u001b[1;32mIn[11], line 7\u001b[1;36m\u001b[0m\n\u001b[1;33m    return(l1 + l2 > l3) and (l1 + l3 > l2) and (l2 + l3 > l1)\u001b[0m\n\u001b[1;37m    ^\u001b[0m\n\u001b[1;31mIndentationError\u001b[0m\u001b[1;31m:\u001b[0m expected an indented block after function definition on line 6\n"
          ]
        }
      ],
      "source": [
        "    # Resolução de aula\n",
        "lado_A = float(input(\"Digite o primeiro lado do triângulo: \"))\n",
        "lado_B = float(input(\"Digite o segundo lado do triângulo: \"))\n",
        "lado_C = float(input(\"Digite o terceiro lado do triângulo: \"))\n",
        "\n",
        "def eh_tri(l1, l2, l3):\n",
        "    return(l1 + l2 > l3) and (l1 + l3 > l2) and (l2 + l3 > l1)\n",
        "\n",
        "def classifica_triangulo(l1, l2, l3):\n",
        "    if l1 == l2 == l3:\n",
        "        return \"Equilátero\"\n",
        "    elif l1 == l2 or l1 == l3 or l2 == l3:\n",
        "        return \"Isósceles\"\n",
        "    else: return \"Escaleno\"\n",
        "\n",
        "if eh_tri(lado_A, lado_B, lado_C):\n",
        "    print(\"O triangulo é:\",classifica_triangulo(lado_A, lado_B, lado_C))\n",
        "else: \n",
        "    print(\"Não é possível formar um triângulo com esses lados.\")"
      ]
    },
    {
      "cell_type": "markdown",
      "metadata": {
        "id": "5Dk_aUhDbR0s"
      },
      "source": [
        "Escreva um programa para ler um número inteiro e verificar se o mesmo é par ou ímpar. Pesquisar funções caso seja necessário."
      ]
    },
    {
      "cell_type": "code",
      "execution_count": 20,
      "metadata": {
        "id": "vZvl0tV7oEk4"
      },
      "outputs": [
        {
          "name": "stdout",
          "output_type": "stream",
          "text": [
            "7 é ímpar!\n",
            "7 é ímpar\n"
          ]
        }
      ],
      "source": [
        "n = int(input(\"Digite o número que será testado: \"))\n",
        "\n",
        "if n % 2 == 0:\n",
        "    print(f\"{n} é par!\")\n",
        "else:\n",
        "    print(f\"{n} é ímpar!\")\n",
        "\n",
        "# usando operadores ternários\n",
        "tipo = \"par\" if (n % 2 == 0) else \"ímpar\"\n",
        "print(f\"{n} é {tipo}\")"
      ]
    },
    {
      "cell_type": "markdown",
      "metadata": {},
      "source": [
        "# Resolução de aula"
      ]
    },
    {
      "cell_type": "code",
      "execution_count": 13,
      "metadata": {},
      "outputs": [
        {
          "name": "stdout",
          "output_type": "stream",
          "text": [
            "impar\n"
          ]
        }
      ],
      "source": [
        "n = int(input(\"Digite o número que será testado: \"))\n",
        "\n",
        "def verifica_par_impar(n):\n",
        "    if n % 2 == 0: \n",
        "        return \"par\"\n",
        "    else:\n",
        "        return \"impar\"\n",
        "\n",
        "print(verifica_par_impar(n))"
      ]
    },
    {
      "cell_type": "markdown",
      "metadata": {
        "id": "NuPfgLIybab4"
      },
      "source": [
        "# Estruturas de Repetição\n",
        "**While:**\n",
        "O while é uma estrutura de repetição que executa um bloco de código enquanto uma condição for verdadeira."
      ]
    },
    {
      "cell_type": "code",
      "execution_count": null,
      "metadata": {
        "id": "f4_O8GoTbpyZ"
      },
      "outputs": [],
      "source": [
        "contador = 0\n",
        "while contador < 5:\n",
        "    print(contador)\n",
        "    contador += 1\n"
      ]
    },
    {
      "cell_type": "markdown",
      "metadata": {
        "id": "zaamibLIbtGo"
      },
      "source": [
        "***For:***\n",
        "O for é uma estrutura de repetição usada para percorrer sequências, como listas, tuplas ou strings."
      ]
    },
    {
      "cell_type": "code",
      "execution_count": null,
      "metadata": {
        "id": "wCBh9HWlb1xz"
      },
      "outputs": [],
      "source": [
        "lista = [1, 2, 3, 4, 5]\n",
        "for elemento in lista:\n",
        "    print(elemento)\n"
      ]
    },
    {
      "cell_type": "markdown",
      "metadata": {
        "id": "uVa6pAbFcHuY"
      },
      "source": [
        "A instrução break é usada para interromper o loop antes que a condição seja falsa. Quando o break é executado, o loop é encerrado imediatamente."
      ]
    },
    {
      "cell_type": "code",
      "execution_count": null,
      "metadata": {
        "id": "G2ayBpgVcKFO"
      },
      "outputs": [],
      "source": [
        "contador = 0\n",
        "while True:\n",
        "    print(contador)\n",
        "    contador += 1\n",
        "    if contador >= 5:\n",
        "        break\n"
      ]
    },
    {
      "cell_type": "markdown",
      "metadata": {
        "id": "Go5WpYQgcOm4"
      },
      "source": [
        "A instrução continue é usada para pular para a próxima iteração do loop sem executar o restante do código no loop."
      ]
    },
    {
      "cell_type": "code",
      "execution_count": null,
      "metadata": {
        "id": "sBCVALT-cQMT"
      },
      "outputs": [],
      "source": [
        "for i in range(1, 6, 2):\n",
        "    if i == 3:\n",
        "        continue\n",
        "    print(i)\n"
      ]
    },
    {
      "cell_type": "markdown",
      "metadata": {
        "id": "lT_vNAN_chdO"
      },
      "source": [
        "Escreva um programa que solicite ao usuário um número inteiro positivo e calcule a soma de todos os números pares de 1 até esse número."
      ]
    },
    {
      "cell_type": "code",
      "execution_count": 20,
      "metadata": {},
      "outputs": [
        {
          "name": "stdout",
          "output_type": "stream",
          "text": [
            "0 + 2 + 4 + 6 + 8 + 10 + \n",
            "A soma dos pares de 1 até 10 é 30\n"
          ]
        }
      ],
      "source": [
        "n = int(input(\"Digite um número: \"))\n",
        "soma = 0\n",
        "\n",
        "for i in range(n+1):\n",
        "    if i % 2 == 0:\n",
        "        print(i, end=\" + \")\n",
        "        soma += i\n",
        "\n",
        "print(f\"\\nA soma dos pares de 1 até {n} é {soma}\")"
      ]
    },
    {
      "cell_type": "markdown",
      "metadata": {
        "id": "EzzCJeGxdhne"
      },
      "source": [
        "# Funções em Python\n",
        "Trabalhar com funções é fundamental, pois elas permitem agrupar um conjunto de instruções em um bloco reutilizável, tornando o código mais organizado e modular. Para definir uma função em Python, utilizamos a palavra-chave def, seguida do nome da função, uma lista de parâmetros entre parênteses e o caractere de dois pontos :. O corpo da função é indentado abaixo da declaração. Para chamar (ou invocar) uma função, basta digitar o nome da função seguido por parênteses, contendo os argumentos (se houver) que a função espera. Se a função não tiver argumentos, os parênteses ainda devem ser incluídos."
      ]
    },
    {
      "cell_type": "code",
      "execution_count": 32,
      "metadata": {
        "id": "Z4KLkbb4eAnm"
      },
      "outputs": [
        {
          "name": "stdout",
          "output_type": "stream",
          "text": [
            "5\n"
          ]
        }
      ],
      "source": [
        "def somar(a, b):\n",
        "    return a + b\n",
        "\n",
        "resultado = somar(2, 3)\n",
        "print(resultado)  # Saída: 5\n"
      ]
    },
    {
      "cell_type": "markdown",
      "metadata": {
        "id": "LbNlRFLAeFGW"
      },
      "source": [
        "***Função Lambda: ***\n",
        "m Python, a função lambda é uma forma concisa de criar funções anônimas de uma única linha. Elas também são conhecidas como funções lambda ou funções de expressão lambda. Diferente das funções comuns, as funções lambda não possuem um nome associado e geralmente são utilizadas em situações onde a função é usada apenas uma vez ou em contextos em que funções pequenas e simples são necessárias."
      ]
    },
    {
      "cell_type": "code",
      "execution_count": 31,
      "metadata": {
        "id": "Hn6LrTjdeRTn"
      },
      "outputs": [
        {
          "name": "stdout",
          "output_type": "stream",
          "text": [
            "<class 'function'>\n",
            "25\n"
          ]
        }
      ],
      "source": [
        "# Função lambda que retorna o quadrado de um número\n",
        "quadrado = lambda x: x ** 2\n",
        "print(type(quadrado))\n",
        "# Usando a função lambda\n",
        "resultado = quadrado(5)\n",
        "print(resultado)  # Saída: 25\n"
      ]
    },
    {
      "cell_type": "code",
      "execution_count": 30,
      "metadata": {
        "id": "9vnMJ-xZy_UD"
      },
      "outputs": [
        {
          "name": "stdout",
          "output_type": "stream",
          "text": [
            "25\n"
          ]
        }
      ],
      "source": [
        "def quadrado(x):\n",
        "    return x ** 2\n",
        "# Usando a função lambda\n",
        "resultado = quadrado(5)\n",
        "print(resultado)  # Saída: 25"
      ]
    },
    {
      "cell_type": "markdown",
      "metadata": {
        "id": "-XsJ-jcneijK"
      },
      "source": [
        "# Funções populares em Python"
      ]
    },
    {
      "cell_type": "code",
      "execution_count": 29,
      "metadata": {
        "id": "8e0K7Y8-emeu"
      },
      "outputs": [
        {
          "name": "stdout",
          "output_type": "stream",
          "text": [
            "<class 'module'>\n",
            "A raiz quadrada de 25 é: 5.0\n"
          ]
        }
      ],
      "source": [
        "import math\n",
        "print(type(math))\n",
        "numero = 25\n",
        "raiz_quadrada = math.sqrt(numero)\n",
        "print(f\"A raiz quadrada de {numero} é: {raiz_quadrada}\")\n"
      ]
    },
    {
      "cell_type": "code",
      "execution_count": 28,
      "metadata": {
        "id": "ExQw2lyse-qx"
      },
      "outputs": [
        {
          "name": "stdout",
          "output_type": "stream",
          "text": [
            "61\n"
          ]
        }
      ],
      "source": [
        "import random\n",
        "\n",
        "numero_aleatorio = random.randint(1, 100)\n",
        "print(numero_aleatorio)\n"
      ]
    },
    {
      "cell_type": "code",
      "execution_count": 27,
      "metadata": {
        "id": "gc5cXolvfCKN"
      },
      "outputs": [
        {
          "name": "stdout",
          "output_type": "stream",
          "text": [
            "0.6477565465064687\n",
            "18.460718108071358\n"
          ]
        }
      ],
      "source": [
        "import random\n",
        "\n",
        "numero_aleatorio = random.random()\n",
        "print(numero_aleatorio)\n",
        "\n",
        "numero_aleatorio_intervalo = random.uniform(10, 20)\n",
        "print(numero_aleatorio_intervalo)\n"
      ]
    },
    {
      "cell_type": "code",
      "execution_count": 26,
      "metadata": {
        "id": "R1m5u7VNfHUp"
      },
      "outputs": [
        {
          "name": "stdout",
          "output_type": "stream",
          "text": [
            "2\n"
          ]
        }
      ],
      "source": [
        "import random\n",
        "\n",
        "lista = [1, 2, 3, 4, 5]\n",
        "elemento_aleatorio = random.choice(lista)\n",
        "print(elemento_aleatorio)\n"
      ]
    },
    {
      "cell_type": "code",
      "execution_count": 25,
      "metadata": {
        "id": "CzNZcH28fLbN"
      },
      "outputs": [
        {
          "name": "stdout",
          "output_type": "stream",
          "text": [
            "[3, 1, 5, 2, 4]\n"
          ]
        }
      ],
      "source": [
        "import random\n",
        "\n",
        "lista = [1, 2, 3, 4, 5]\n",
        "random.shuffle(lista)\n",
        "print(lista)\n"
      ]
    },
    {
      "cell_type": "code",
      "execution_count": 33,
      "metadata": {
        "id": "Lh2UW6Nyfle_"
      },
      "outputs": [
        {
          "name": "stdout",
          "output_type": "stream",
          "text": [
            "[1, 1, 2, 3, 3, 4, 5, 5, 5, 6, 9]\n"
          ]
        }
      ],
      "source": [
        "numeros = [3, 1, 4, 1, 5, 9, 2, 6, 5, 3, 5]\n",
        "numeros_ordenados = sorted(numeros)\n",
        "print(numeros_ordenados)\n"
      ]
    },
    {
      "cell_type": "code",
      "execution_count": 35,
      "metadata": {
        "id": "5137gam7fo5b"
      },
      "outputs": [
        {
          "name": "stdout",
          "output_type": "stream",
          "text": [
            "['maçã', 'banana', 'laranja', 'abacaxi']\n"
          ]
        }
      ],
      "source": [
        "palavras = [\"banana\", \"maçã\", \"laranja\", \"abacaxi\"]\n",
        "palavras_ordenadas = sorted(palavras, key=len)\n",
        "print(palavras_ordenadas)\n"
      ]
    },
    {
      "cell_type": "markdown",
      "metadata": {
        "id": "OThWXkG0fy3H"
      },
      "source": [
        "Faça um programa para calcular as raízes de uma equação de segundo grau."
      ]
    },
    {
      "cell_type": "code",
      "execution_count": 39,
      "metadata": {
        "id": "-PN-qk3W2EXE"
      },
      "outputs": [
        {
          "name": "stdout",
          "output_type": "stream",
          "text": [
            "As raízes são: -0.2928932188134524 e -1.7071067811865475\n"
          ]
        }
      ],
      "source": [
        "import math\n",
        "\n",
        "def raiz(a, b, c):\n",
        "    delta = b**2 - 4*a*c\n",
        "    \n",
        "    if delta < 0:\n",
        "        return \"Não existem raízes reais.\"\n",
        "    elif delta == 0:\n",
        "        raiz = -b / (2*a)\n",
        "        return f\"A raiz única é: {raiz}\"\n",
        "    else:\n",
        "        raiz1 = (-b + math.sqrt(delta)) / (2*a)\n",
        "        raiz2 = (-b - math.sqrt(delta)) / (2*a)\n",
        "        return f\"As raízes são: {raiz1} e {raiz2}\"\n",
        "\n",
        "a = float(input(\"Digite o coeficiente a: \"))\n",
        "b = float(input(\"Digite o coeficiente b: \"))\n",
        "c = float(input(\"Digite o coeficiente c: \"))\n",
        "    \n",
        "resultado = raiz(a, b, c)\n",
        "print(resultado)"
      ]
    },
    {
      "cell_type": "markdown",
      "metadata": {
        "id": "T8Sn8zd_f4to"
      },
      "source": [
        "Faça um programa para ler os catetos e calcular a hipotenusa."
      ]
    },
    {
      "cell_type": "code",
      "execution_count": 41,
      "metadata": {
        "id": "J1sybch4lrgU"
      },
      "outputs": [
        {
          "name": "stdout",
          "output_type": "stream",
          "text": [
            "O valor da hipotenusa é 5.0\n"
          ]
        }
      ],
      "source": [
        "import math\n",
        "\n",
        "cat_op = float(input(\"Digite o valor cateto oposto: \"))\n",
        "cat_ad = float(input(\"Digite o valor cateto adjacente: \"))\n",
        "\n",
        "hip = math.sqrt((cat_op**2) + (cat_ad**2))\n",
        "\n",
        "print(f\"O valor da hipotenusa é {hip}\")"
      ]
    },
    {
      "cell_type": "markdown",
      "metadata": {
        "id": "7l-h1B4RH6t9"
      },
      "source": [
        "# Estruturas de Dados em Python\n",
        "Em Python, existem quatro tipos principais de estruturas de dados que permitem armazenar e organizar coleções de valores: listas, tuplas, conjuntos e dicionários. Cada uma delas tem suas características e finalidades específicas.\n",
        "\n",
        "1. Listas:\n",
        "\n",
        "* Listas são coleções ordenadas e mutáveis de valores.\n",
        "* Podem conter elementos de diferentes tipos.\n",
        "* São definidas utilizando colchetes [].\n",
        "nomes = [\"Alice\", \"Bob\", \"Carol\", \"David\"]"
      ]
    },
    {
      "cell_type": "code",
      "execution_count": 47,
      "metadata": {
        "id": "-hHRYBD7IXaO"
      },
      "outputs": [
        {
          "name": "stdout",
          "output_type": "stream",
          "text": [
            "['Alice', 'Bob', 'Carol', 'David']\n"
          ]
        }
      ],
      "source": [
        "nomes = [\"Alice\", \"Bob\", \"Carol\", \"David\"]\n",
        "print(nomes)"
      ]
    },
    {
      "cell_type": "markdown",
      "metadata": {
        "id": "NAGAe5g7InIY"
      },
      "source": [
        "Usamos índices (começando de 0) para acessar elementos individuais em uma lista."
      ]
    },
    {
      "cell_type": "code",
      "execution_count": 48,
      "metadata": {
        "id": "fHkSr-fwIeUT"
      },
      "outputs": [
        {
          "name": "stdout",
          "output_type": "stream",
          "text": [
            "Alice\n"
          ]
        }
      ],
      "source": [
        "print(nomes[0])"
      ]
    },
    {
      "cell_type": "markdown",
      "metadata": {
        "id": "b4VMUSkwI16y"
      },
      "source": [
        "Adicionar elementos: Utilize o método append() para adicionar um elemento ao final da lista."
      ]
    },
    {
      "cell_type": "code",
      "execution_count": 49,
      "metadata": {
        "colab": {
          "base_uri": "https://localhost:8080/"
        },
        "id": "8qFkPifCI3JV",
        "outputId": "dbe73b27-c06c-4900-cee5-97386182830b"
      },
      "outputs": [
        {
          "name": "stdout",
          "output_type": "stream",
          "text": [
            "['Alice', 'Bob', 'Carol', 'David', 'Edward']\n"
          ]
        }
      ],
      "source": [
        "nomes.append(\"Edward\")\n",
        "print(nomes)"
      ]
    },
    {
      "cell_type": "markdown",
      "metadata": {
        "id": "M_1tkZrtJDHj"
      },
      "source": [
        "Remover elementos: Utilize remove() para remover um elemento específico pelo valor, ou pop() para remover um elemento pelo índice."
      ]
    },
    {
      "cell_type": "code",
      "execution_count": 50,
      "metadata": {
        "id": "J8J20AqwJEbA"
      },
      "outputs": [
        {
          "name": "stdout",
          "output_type": "stream",
          "text": [
            "['Alice', 'Carol', 'David', 'Edward']\n"
          ]
        }
      ],
      "source": [
        "nomes.remove(\"Bob\")\n",
        "print(nomes)"
      ]
    },
    {
      "cell_type": "code",
      "execution_count": 51,
      "metadata": {
        "id": "ZBMRbuMPJO7V"
      },
      "outputs": [
        {
          "name": "stdout",
          "output_type": "stream",
          "text": [
            "['Alice', 'David', 'Edward']\n"
          ]
        }
      ],
      "source": [
        "nomes.pop(1)\n",
        "print(nomes)"
      ]
    },
    {
      "cell_type": "markdown",
      "metadata": {
        "id": "6S5HA5UhJLg3"
      },
      "source": [
        "Atualizar elementos: Atribua um novo valor a um índice específico."
      ]
    },
    {
      "cell_type": "code",
      "execution_count": 52,
      "metadata": {
        "id": "gEprks9hJb-v"
      },
      "outputs": [
        {
          "name": "stdout",
          "output_type": "stream",
          "text": [
            "['Alicia', 'David', 'Edward']\n"
          ]
        }
      ],
      "source": [
        "nomes[0] = \"Alicia\"\n",
        "print(nomes)"
      ]
    },
    {
      "cell_type": "markdown",
      "metadata": {
        "id": "ZJbuiEgnJiVx"
      },
      "source": [
        "2. Tuplas:\n",
        "* Tuplas são coleções ordenadas e imutáveis de valores.\n",
        "*Geralmente usadas para armazenar elementos relacionados.\n",
        "* São definidas utilizando parênteses ().\n",
        "\n",
        "Acesso a Elementos:\n",
        "\n",
        "Assim como nas listas, usamos índices para acessar elementos em tuplas."
      ]
    },
    {
      "cell_type": "code",
      "execution_count": 53,
      "metadata": {
        "id": "JAT58QaUJnQi"
      },
      "outputs": [
        {
          "name": "stdout",
          "output_type": "stream",
          "text": [
            "10\n",
            "20\n",
            "(10, 20)\n"
          ]
        }
      ],
      "source": [
        "coordenadas = (10, 20)\n",
        "print(coordenadas[0])\n",
        "print(coordenadas[1])\n",
        "print(coordenadas)"
      ]
    },
    {
      "cell_type": "markdown",
      "metadata": {
        "id": "1Dk5shaXJz-N"
      },
      "source": [
        "Manipulação de Elementos:\n",
        "\n",
        "Como as tuplas são imutáveis, não é possível adicionar ou remover elementos após a criação.\n",
        "No entanto, você pode reatribuir uma tupla inteira para alterar seus elementos."
      ]
    },
    {
      "cell_type": "markdown",
      "metadata": {
        "id": "i0B6DRlLKR87"
      },
      "source": [
        "3. Conjuntos:\n",
        "\n",
        "* Conjuntos são coleções não ordenadas e mutáveis de valores únicos.\n",
        "* Não permitem duplicatas.\n",
        "* São definidos utilizando chaves {} ou a função set()."
      ]
    },
    {
      "cell_type": "code",
      "execution_count": 54,
      "metadata": {
        "id": "1yVQfFXNK9we"
      },
      "outputs": [
        {
          "name": "stdout",
          "output_type": "stream",
          "text": [
            "{1, 2, 3, 4, 5}\n"
          ]
        }
      ],
      "source": [
        "numeros = {1, 2, 3, 4, 5}\n",
        "print(numeros)\n"
      ]
    },
    {
      "cell_type": "markdown",
      "metadata": {
        "id": "FZ8pb2C4LTW8"
      },
      "source": [
        "Acesso a Elementos:\n",
        "\n",
        "* Devido à natureza não ordenada dos conjuntos, não é possível acessar elementos por índices.\n",
        "\n",
        "Manipulação de Elementos:\n",
        "\n",
        "Adicionar elementos: Use add() para adicionar um elemento ao conjunto."
      ]
    },
    {
      "cell_type": "code",
      "execution_count": 60,
      "metadata": {
        "id": "dn-aH2eXLXsx"
      },
      "outputs": [
        {
          "name": "stdout",
          "output_type": "stream",
          "text": [
            "{2, 3, 4, 5, 6}\n"
          ]
        }
      ],
      "source": [
        "numeros.add(6)\n",
        "print(numeros)"
      ]
    },
    {
      "cell_type": "markdown",
      "metadata": {
        "id": "pSeP0VAoLx-J"
      },
      "source": [
        "Remover elementos:\n",
        "\n",
        "Utilize remove() para remover um elemento específico ou discard() para remover sem gerar erro se o elemento não existir."
      ]
    },
    {
      "cell_type": "code",
      "execution_count": 65,
      "metadata": {
        "id": "pdxdwRpQL5cG"
      },
      "outputs": [
        {
          "name": "stdout",
          "output_type": "stream",
          "text": [
            "{2, 3, 4, 5}\n"
          ]
        }
      ],
      "source": [
        "numeros = {1, 2, 3, 4, 5}\n",
        "numeros.remove(1)\n",
        "numeros.discard(6)\n",
        "print(numeros)"
      ]
    },
    {
      "cell_type": "markdown",
      "metadata": {
        "id": "q2jegj_zMI5M"
      },
      "source": [
        "4. Dicionários:\n",
        "\n",
        "* Dicionários são coleções não ordenadas de pares chave-valor.\n",
        "* Cada valor é acessado por meio de sua chave, que deve ser única.\n",
        "* São definidos utilizando chaves {} e pares chave-valor separados por :.\n"
      ]
    },
    {
      "cell_type": "code",
      "execution_count": 66,
      "metadata": {
        "id": "V2ea8mDTMQ33"
      },
      "outputs": [
        {
          "name": "stdout",
          "output_type": "stream",
          "text": [
            "bob@example.com\n"
          ]
        }
      ],
      "source": [
        "contatos = {\"Alice\": \"alice@example.com\", \"Bob\": \"bob@example.com\"}\n",
        "print (contatos[\"Bob\"])"
      ]
    },
    {
      "cell_type": "markdown",
      "metadata": {
        "id": "zNfXFWbxMbQM"
      },
      "source": [
        "Manipulação de Elementos:\n",
        "\n",
        "Adicionar elementos: Atribua um valor a uma nova chave."
      ]
    },
    {
      "cell_type": "code",
      "execution_count": null,
      "metadata": {
        "id": "RPMB4FDiQeD3"
      },
      "outputs": [],
      "source": [
        "contatos[\"Carol\"] = \"carol@example.com\"\n",
        "print(contatos)"
      ]
    },
    {
      "cell_type": "markdown",
      "metadata": {
        "id": "H-6tUJaAQjrr"
      },
      "source": [
        "Remover elementos:\n",
        "\n",
        "Utilize pop() com a chave ou del para remover um par chave-valor."
      ]
    },
    {
      "cell_type": "code",
      "execution_count": 67,
      "metadata": {
        "id": "vAeb_2eoQtyS"
      },
      "outputs": [
        {
          "name": "stdout",
          "output_type": "stream",
          "text": [
            "{}\n"
          ]
        }
      ],
      "source": [
        "email_bob = contatos.pop(\"Bob\")\n",
        "del contatos[\"Alice\"]\n",
        "print(contatos)"
      ]
    },
    {
      "cell_type": "markdown",
      "metadata": {
        "id": "WLasEJXcQzk6"
      },
      "source": [
        "Atualizar elementos:\n",
        "\n",
        "Atribua um novo valor a uma chave existente."
      ]
    },
    {
      "cell_type": "code",
      "execution_count": null,
      "metadata": {
        "id": "2vDn2MIhQ6ek"
      },
      "outputs": [],
      "source": [
        "contatos[\"Carol\"] = \"new_carol@example.com\"\n",
        "print(contatos)"
      ]
    },
    {
      "cell_type": "markdown",
      "metadata": {
        "id": "z_UcTFSoRZwh"
      },
      "source": [
        "Exercício Listas\n",
        "\n",
        "Inicialize uma lista de 20 números inteiros. Armazene\n",
        "os números pares em uma lista PAR e os números\n",
        "ímpares em uma lista IMPAR. Imprima as listas PAR\n",
        "e IMPAR."
      ]
    },
    {
      "cell_type": "code",
      "execution_count": 17,
      "metadata": {
        "id": "tHOtigqsSILJ"
      },
      "outputs": [
        {
          "name": "stdout",
          "output_type": "stream",
          "text": [
            "Pares: [2, 4, 6, 8, 10, 12, 14, 16, 18, 20]\n",
            "Ímpares: [1, 3, 5, 7, 9, 11, 13, 15, 17, 19]\n"
          ]
        }
      ],
      "source": [
        "import random\n",
        "\n",
        "# Tentativa de erro 1\n",
        "# for i in range(1, 20):\n",
        "#     num[i] = i\n",
        "\n",
        "par = []\n",
        "impar = []\n",
        "\n",
        "nums = list(range(1, 21))\n",
        "\n",
        "for num in nums:\n",
        "    if num % 2 == 0:\n",
        "        par.append(num)\n",
        "    else:\n",
        "        impar.append(num)\n",
        "\n",
        "print(f\"Pares: {par}\")\n",
        "print(f\"Ímpares: {impar}\")\n"
      ]
    },
    {
      "cell_type": "markdown",
      "metadata": {
        "id": "I9dIrG4KSG8q"
      },
      "source": [
        "Exercício Tuplas\n",
        "\n",
        "Crie uma tupla com nomes de frutas e realize as seguintes operações:\n",
        "\n",
        "* Acesse o segundo elemento da tupla.\n",
        "* Tente modificar o primeiro elemento (isso deve gerar um erro).\n",
        "* Verifique o comprimento da tupla."
      ]
    },
    {
      "cell_type": "code",
      "execution_count": 21,
      "metadata": {
        "id": "-QOnrVk6Shvd"
      },
      "outputs": [
        {
          "name": "stdout",
          "output_type": "stream",
          "text": [
            "carambola\n",
            "4\n"
          ]
        }
      ],
      "source": [
        "frutas = (\"abacaxi\", \"banana\", \"carambola\", \"laranja\")\n",
        "\n",
        "print(frutas[2])\n",
        "\n",
        "print(len(frutas))"
      ]
    },
    {
      "cell_type": "markdown",
      "metadata": {
        "id": "pnwOSCVCSiAm"
      },
      "source": [
        "Exercício Conjuntos\n",
        "\n",
        "Crie dois conjuntos com números inteiros e realize as seguintes operações:\n",
        "\n",
        "* Realize a união dos dois conjuntos.\n",
        "* Realize a interseção dos dois conjuntos.\n",
        "* Adicione um novo número a um dos conjuntos.\n",
        "* Remova um número de um dos conjuntos."
      ]
    },
    {
      "cell_type": "code",
      "execution_count": 24,
      "metadata": {
        "id": "YFRvYK6KS6Ge"
      },
      "outputs": [
        {
          "name": "stdout",
          "output_type": "stream",
          "text": [
            "{1, 2, 3, 4, 5, 6, 7, 8}\n",
            "{4, 5}\n",
            "{1, 2, 3, 4, 5, 9}\n",
            "{1, 2, 3, 4, 5, 9}\n"
          ]
        }
      ],
      "source": [
        "c1 = {1, 2, 3, 4, 5}\n",
        "c2= {4, 5, 6, 7, 8}\n",
        "\n",
        "c1uc2 = c1 | c2\n",
        "print(c1uc2)\n",
        "\n",
        "c1ic2 = c1 & c2\n",
        "print(c1ic2)\n",
        "\n",
        "c1.add(9)\n",
        "print(c1)\n",
        "\n",
        "c2.remove(6)\n",
        "print(c1)"
      ]
    },
    {
      "cell_type": "markdown",
      "metadata": {
        "id": "MvtUDCJTSrlC"
      },
      "source": [
        "Exercício Dicionários\n",
        "\n",
        "Crie um dicionário com palavras e suas respectivas definições. Realize as seguintes operações:\n",
        "\n",
        "* Acesse a definição de uma palavra.\n",
        "* Adicione uma nova palavra ao dicionário.\n",
        "* Modifique a definição de uma palavra existente.\n",
        "* Remova uma palavra do dicionário."
      ]
    },
    {
      "cell_type": "code",
      "execution_count": 25,
      "metadata": {
        "id": "1_bAQn_Wo4kW"
      },
      "outputs": [
        {
          "name": "stdout",
          "output_type": "stream",
          "text": [
            "colosso\n",
            "{'cor': 'roxo', 'número': 'sete', 'palavra': 'colosso', 'variável': 'var'}\n",
            "{'cor': 'azul', 'número': 'sete', 'palavra': 'colosso', 'variável': 'var'}\n",
            "{'cor': 'azul', 'número': 'sete', 'variável': 'var'}\n"
          ]
        }
      ],
      "source": [
        "dicionario = {\n",
        "    \"cor\": \"roxo\",\n",
        "    \"número\": \"sete\",\n",
        "    \"palavra\": \"colosso\"\n",
        "}\n",
        "\n",
        "defi = dicionario.get(\"palavra\")\n",
        "print(defi)\n",
        "\n",
        "dicionario[\"variável\"] = \"var\"\n",
        "print(dicionario)\n",
        "\n",
        "dicionario[\"cor\"] = \"azul\"\n",
        "print(dicionario)\n",
        "\n",
        "dicionario.pop(\"palavra\")\n",
        "print(dicionario)"
      ]
    }
  ],
  "metadata": {
    "colab": {
      "provenance": []
    },
    "kernelspec": {
      "display_name": "Python 3",
      "name": "python3"
    },
    "language_info": {
      "codemirror_mode": {
        "name": "ipython",
        "version": 3
      },
      "file_extension": ".py",
      "mimetype": "text/x-python",
      "name": "python",
      "nbconvert_exporter": "python",
      "pygments_lexer": "ipython3",
      "version": "3.13.0"
    }
  },
  "nbformat": 4,
  "nbformat_minor": 0
}
