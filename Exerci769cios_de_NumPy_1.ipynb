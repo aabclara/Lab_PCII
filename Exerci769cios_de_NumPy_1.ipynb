{
  "cells": [
    {
      "cell_type": "markdown",
      "metadata": {
        "id": "5MqHcV1XcSpT"
      },
      "source": [
        "**Exercício 1: Estatísticas Descritivas**\n",
        "\n",
        "Crie um array de 50 números inteiros aleatórios entre 1 e 100. Calcule e exiba a média, mediana, desvio padrão, valor máximo e valor mínimo."
      ]
    },
    {
      "cell_type": "code",
      "execution_count": 6,
      "metadata": {
        "id": "_dAbsR00caGE"
      },
      "outputs": [
        {
          "name": "stdout",
          "output_type": "stream",
          "text": [
            "Array: [ 49 100   5  49   7  25  25  28  35   9  43  64   5  10  97  44  51  25\n",
            "  91  48  22  45  23   7  95  52  80  98  12  79  66  20  56  66  84  56\n",
            "   3  38  45  81  88  11  81  58  19  34  81  11  66  76]\n",
            "\n",
            "\n",
            "Media: 47.26\n",
            "Mediana: 46.5\n",
            "Desvio padrão: 29.520033875319314\n",
            "Valor máximo: 100\n",
            "Valor mínimo: 3\n"
          ]
        }
      ],
      "source": [
        "import numpy as np\n",
        "array = np.random.randint(1, 101, 50) # de 50 numeros de 0 a 101\n",
        "media = np.mean(array)\n",
        "mediana = np.median(array)\n",
        "desvio_padrao = np.std(array)\n",
        "valor_max = np.max(array)\n",
        "valor_min = np.min(array)\n",
        "\n",
        "print(f\"Array: {array}\")\n",
        "\n",
        "print(\"\\n\")\n",
        "\n",
        "print(f\"Media: {media}\")\n",
        "print(f\"Mediana: {mediana}\")\n",
        "print(f\"Desvio padrão: {desvio_padrao}\")\n",
        "print(f\"Valor máximo: {valor_max}\")\n",
        "print(f\"Valor mínimo: {valor_min}\")"
      ]
    },
    {
      "cell_type": "markdown",
      "metadata": {
        "id": "JeJPW98VcbG9"
      },
      "source": [
        "**Exercício 2: Operações com Matrizes**\n",
        "\n",
        "Crie duas matrizes 3x3 de números inteiros aleatórios entre 1 e 10. Realize as operações de adição, subtração, multiplicação e divisão elemento por elemento entre as duas matrizes."
      ]
    },
    {
      "cell_type": "code",
      "execution_count": 23,
      "metadata": {
        "id": "02tMKXtTcqRM"
      },
      "outputs": [
        {
          "name": "stdout",
          "output_type": "stream",
          "text": [
            "Matriz 1:\n",
            " [[1 3 2]\n",
            " [7 4 4]\n",
            " [1 5 1]]\n",
            "Matriz 2:\n",
            " [[2 8 9]\n",
            " [6 2 6]\n",
            " [1 8 9]]\n",
            "Soma:\n",
            " [[ 3 11 11]\n",
            " [13  6 10]\n",
            " [ 2 13 10]]\n",
            "\n",
            "Subtração:\n",
            " [[-1 -5 -7]\n",
            " [ 1  2 -2]\n",
            " [ 0 -3 -8]]\n",
            "\n",
            "Multiplicação:\n",
            " [[ 2 24 18]\n",
            " [42  8 24]\n",
            " [ 1 40  9]]\n",
            "\n",
            "Divisão:\n",
            " [[0.5  0.38 0.22]\n",
            " [1.17 2.   0.67]\n",
            " [1.   0.62 0.11]] \n",
            "\n"
          ]
        }
      ],
      "source": [
        "import numpy as np\n",
        "\n",
        "mat1 = np.random.randint(1, 11, (3, 3)) # de 1 até 11 com dimensões 3, 3\n",
        "mat2 = np.random.randint(1, 11, (3, 3))\n",
        "\n",
        "soma = mat1 + mat2\n",
        "sub = mat1 - mat2\n",
        "mult = mat1 * mat2\n",
        "div = mat1 / mat2\n",
        "\n",
        "print(f\"Matriz 1:\\n {mat1}\")\n",
        "print(f\"Matriz 2:\\n {mat2}\")\n",
        "\n",
        "print(f\"Soma:\\n {soma}\\n\")\n",
        "print(f\"Subtração:\\n {sub}\\n\")\n",
        "print(f\"Multiplicação:\\n {mult}\\n\")\n",
        "np.set_printoptions(precision=2, suppress=True) # duas casas de precisão após a vírgula\n",
        "print(f\"Divisão:\\n {div} \\n\")"
      ]
    },
    {
      "cell_type": "markdown",
      "metadata": {
        "id": "uDBACVC8cvek"
      },
      "source": [
        "**Exercício 3: Operações de Agregação**\n",
        "\n",
        "Crie uma matriz 4x4 de números inteiros aleatórios entre 1 e 20. Calcule e exiba a soma dos elementos para cada linha e para cada coluna."
      ]
    },
    {
      "cell_type": "code",
      "execution_count": 31,
      "metadata": {
        "id": "t7vqqYlfc3uC"
      },
      "outputs": [
        {
          "name": "stdout",
          "output_type": "stream",
          "text": [
            "Matriz:\n",
            " [[ 6 18  9 12]\n",
            " [ 3 10  9  6]\n",
            " [17  2 14  1]\n",
            " [ 4  6 16 11]]\n",
            "Soma dos elementos das linhas: [45 28 34 37]\n",
            "Soma dos elementos das colunas: [30 36 48 30]\n"
          ]
        }
      ],
      "source": [
        "import numpy as np\n",
        "\n",
        "matriz = np.random.randint(1, 21, (4, 4))\n",
        "\n",
        "print(f\"Matriz:\\n {matriz}\")\n",
        "\n",
        "soma_linha = np.sum(matriz, axis=1) # 1 para somar linhas\n",
        "print(f\"Soma dos elementos das linhas: {soma_linha}\")\n",
        "\n",
        "soma_coluna = np.sum(matriz, axis=0) # 0 para somar colunas\n",
        "print(f\"Soma dos elementos das colunas: {soma_coluna}\")"
      ]
    },
    {
      "cell_type": "markdown",
      "metadata": {
        "id": "_7ELGR0tc-Zl"
      },
      "source": [
        "**Exercício 4: Filtragem de Valores**\n",
        "\n",
        "Crie um array de 30 números inteiros aleatórios entre 0 e 50. Encontre e exiba todos os valores que são maiores que 25."
      ]
    },
    {
      "cell_type": "code",
      "execution_count": 52,
      "metadata": {
        "id": "GKMCRZQrdB9P"
      },
      "outputs": [
        {
          "name": "stdout",
          "output_type": "stream",
          "text": [
            "Array completo:\n",
            " [ 0  6 37 43 44 37 49 40 22 36 47 27 24 49 31 10 48 27  2 36 20 22 37 34\n",
            "  2 32 47 22 24 41]\n",
            "Valores maiores que 25: [37 43 44 37 49 40 36 47 27 49 31 48 27 36 37 34 32 47 41]\n",
            "Quantidade de valores maiores que 25: (19,)\n"
          ]
        }
      ],
      "source": [
        "import numpy as np\n",
        "\n",
        "arrayteste = np.random.randint(0, 51, 30)\n",
        "\n",
        "maiores = arrayteste[arrayteste > 25]\n",
        "qntd = maiores.shape\n",
        "\n",
        "print(f\"Array completo:\\n {arrayteste}\")\n",
        "print(f\"Valores maiores que 25: {maiores}\")\n",
        "\n",
        "print(f\"Quantidade de valores maiores que 25: {qntd}\")"
      ]
    },
    {
      "cell_type": "markdown",
      "metadata": {
        "id": "WfgLU2IrdKQ6"
      },
      "source": [
        "**Exercício 5: Criação e Manipulação de Arrays Multidimensionais**\n",
        "\n",
        "Crie uma matriz 3x3x3 de números inteiros aleatórios entre 1 e 10. Calcule a soma total dos elementos e a soma cumulativa."
      ]
    },
    {
      "cell_type": "code",
      "execution_count": 48,
      "metadata": {
        "id": "tvws8aE_dTBv"
      },
      "outputs": [
        {
          "name": "stdout",
          "output_type": "stream",
          "text": [
            "Matriz completa:\n",
            " [[[ 8  7  8]\n",
            "  [ 6  1  9]\n",
            "  [ 3  8  1]]\n",
            "\n",
            " [[10  5  8]\n",
            "  [ 1  2  8]\n",
            "  [10  7  8]]\n",
            "\n",
            " [[ 3  2  1]\n",
            "  [ 1  6  5]\n",
            "  [ 2  4  3]]]\n",
            "\n",
            "Soma: 137\n",
            "\n",
            "Soma cumulativa:\n",
            " [  8  15  23  29  30  39  42  50  51  61  66  74  75  77  85  95 102 110\n",
            " 113 115 116 117 123 128 130 134 137]\n",
            "\n"
          ]
        }
      ],
      "source": [
        "import numpy as np\n",
        "\n",
        "matriz = np.random.randint(1, 11, (3, 3, 3))\n",
        "\n",
        "soma = np.sum(matriz)\n",
        "somacumulativa = np.cumsum(matriz)\n",
        "\n",
        "print(f\"Matriz completa:\\n {matriz}\\n\")\n",
        "print(f\"Soma: {soma}\\n\")\n",
        "print(f\"Soma cumulativa:\\n {somacumulativa}\\n\")"
      ]
    }
  ],
  "metadata": {
    "colab": {
      "provenance": []
    },
    "kernelspec": {
      "display_name": "Python 3",
      "name": "python3"
    },
    "language_info": {
      "codemirror_mode": {
        "name": "ipython",
        "version": 3
      },
      "file_extension": ".py",
      "mimetype": "text/x-python",
      "name": "python",
      "nbconvert_exporter": "python",
      "pygments_lexer": "ipython3",
      "version": "3.13.1"
    }
  },
  "nbformat": 4,
  "nbformat_minor": 0
}
