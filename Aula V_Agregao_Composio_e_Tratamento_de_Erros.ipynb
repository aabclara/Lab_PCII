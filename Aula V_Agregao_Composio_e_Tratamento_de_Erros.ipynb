{
 "cells": [
  {
   "cell_type": "markdown",
   "metadata": {
    "id": "gRtVaW5waq-P"
   },
   "source": [
    "# Agregação e Composição\n",
    "\n",
    "Agregação e composição são dois conceitos fundamentais na programação orientada a objetos que descrevem relações entre classes, particularmente como objetos de uma classe são usados por objetos de outra.\n",
    "\n",
    "\n",
    "**Agregação**\n",
    "Essa também é uma relação todo/parte, porém, nesse caso dizemos que a parte é compartilhada por outros.\n",
    "Isso significa que a parte de um tipo A está contida em um tipo B, quando esse tem relação de agregação entre eles, porém, essa mesma parte A não existe somente para compor B, essa parte pode agregar outros tipos.\n",
    "\n"
   ]
  },
  {
   "cell_type": "code",
   "execution_count": 1,
   "metadata": {
    "id": "fLz7N7Fna5Oh"
   },
   "outputs": [
    {
     "name": "stdout",
     "output_type": "stream",
     "text": [
      "Alunos da turma Lab. Prog. 2:\n",
      "Nome: Acsa, Matrícula: 202401\n",
      "Nome: Maria Clara, Matrícula: 202402\n",
      "Nome: Natan, Matrícula: 202403\n",
      "Nome: Vitor, Matrícula: 202404\n"
     ]
    }
   ],
   "source": [
    "class Aluno:\n",
    "    def __init__(self, nome, matricula):\n",
    "        self.nome = nome\n",
    "        self.matricula = matricula\n",
    "\n",
    "class Turma:\n",
    "    def __init__(self, nome):\n",
    "        self.nome = nome\n",
    "        self.alunos = []  # A agregação ocorre aqui, uma turma contém uma lista de alunos\n",
    "\n",
    "    def adicionar_aluno(self, aluno):\n",
    "        self.alunos.append(aluno)\n",
    "\n",
    "    def listar_alunos(self):\n",
    "        print(f\"Alunos da turma {self.nome}:\")\n",
    "        for aluno in self.alunos:\n",
    "            print(f\"Nome: {aluno.nome}, Matrícula: {aluno.matricula}\")\n",
    "\n",
    "acsa = Aluno(\"Acsa\", 202401)\n",
    "maria = Aluno(\"Maria Clara\", 202402)\n",
    "natan = Aluno(\"Natan\", 202403)\n",
    "vitor = Aluno(\"Vitor\", 202404)\n",
    "\n",
    "prog2 = Turma(\"Lab. Prog. 2\")\n",
    "prog2.adicionar_aluno(acsa)\n",
    "prog2.adicionar_aluno(maria)\n",
    "prog2.adicionar_aluno(natan)\n",
    "prog2.adicionar_aluno(vitor)\n",
    "prog2.listar_alunos()"
   ]
  },
  {
   "cell_type": "markdown",
   "metadata": {
    "id": "vsld159Abgoz"
   },
   "source": [
    "**Composição**\n",
    "\n",
    "Toda vez que dizemos que a relação entre duas classe é de composição estamos dizendo que uma dessas classe (a Parte) está contida na outra (o Todo) e a parte não vive/não existe sem o todo.\n",
    "Sendo assim, toda vez que destruirmos o todo, a parte que é única e exclusiva do todo se vai junto. Por esse motivo que algum dizem que: a parte está contida no todo.\n",
    "Quando se joga o todo fora, a parte estava dentro e se vai junto."
   ]
  },
  {
   "cell_type": "code",
   "execution_count": null,
   "metadata": {
    "id": "ObNdSlmgbs2-"
   },
   "outputs": [
    {
     "name": "stdout",
     "output_type": "stream",
     "text": [
      "Funcionário\n",
      " e dependentes apagados!\n"
     ]
    }
   ],
   "source": [
    "class Dependente:\n",
    "    def __init__(self, nome, idade):\n",
    "        self.nome = nome\n",
    "        self.idade = idade\n",
    "\n",
    "    def __del__(self):\n",
    "        print(' e dependentes apagados!')\n",
    "\n",
    "class Funcionario:\n",
    "    def __init__(self, nome, cargo):\n",
    "        self.nome = nome\n",
    "        self.cargo = cargo\n",
    "        self.dependentes = []\n",
    "\n",
    "    def adicionar_dependente(self, nome, idade):\n",
    "        self.dependentes.append(Dependente(nome, idade))\n",
    "\n",
    "    def listar_dependentes(self):\n",
    "        for dep in self.dependentes:\n",
    "            print(f\"{dep.nome}, {dep.idade} anos\")\n",
    "    def __del__(self):\n",
    "        print('Funcionário')\n",
    "\n",
    "funcionario = Funcionario(\"Carlos\", \"Engenheiro\")\n",
    "funcionario.adicionar_dependente(\"Ana\", 8)\n",
    "del funcionario\n"
   ]
  },
  {
   "cell_type": "markdown",
   "metadata": {
    "id": "9blB9NFJcJ2Y"
   },
   "source": [
    "**Exercício 1**\n",
    "\n",
    "Você foi contratado para desenvolver um sistema de gerenciamento de escolas. Nesse sistema, cada Escola pode conter vários Professores, mas os Professores podem existir independentemente da Escola. Sua tarefa é implementar a relação de agregação entre as classes Escola e Professor, além de um método para exibir informações sobre a escola e seus professores.\n",
    "\n",
    "Crie uma classe Professor com os seguintes atributos e métodos:\n",
    "\n",
    "* nome (string)\n",
    "* disciplina (string)\n",
    "* Método __ init __ para inicializar os atributos.\n",
    "* Método __ str __ para retornar uma representação em texto do professor.\n",
    "\n",
    "Crie uma classe Escola com os seguintes atributos e métodos:\n",
    "\n",
    "* nome (string)\n",
    "* professores (lista de objetos Professor)\n",
    "* Método __ init __ para inicializar o nome da escola e a lista de professores como vazia.\n",
    "* Método adicionar_professor para adicionar um professor à lista.\n",
    "* Método exibir_detalhes para exibir o nome da escola e a lista de professores associados.\n",
    "\n",
    "Implemente um programa que:\n",
    "\n",
    "* Crie três instâncias de Professor.\n",
    "* Crie uma instância de Escola.\n",
    "* Adicione os professores à escola usando o método adicionar_professor.\n",
    "* Exiba os detalhes da escola e seus professores usando o método exibir_detalhes.\n",
    "\n",
    "Ao final o programa deve exibir:\n",
    "\n",
    "Escola: Escola Municipal ABC\n",
    "\n",
    "Professores:\n",
    "- Nome: Ana, Disciplina: Matemática\n",
    "- Nome: Bruno, Disciplina: História\n",
    "- Nome: Carla, Disciplina: Ciências\n"
   ]
  },
  {
   "cell_type": "code",
   "execution_count": 1,
   "metadata": {
    "id": "PyESt7Atc00E"
   },
   "outputs": [
    {
     "name": "stdout",
     "output_type": "stream",
     "text": [
      "Escola CEFET-MG\n",
      "Professores: \n",
      "- Professor Lázaro, ministrando Lab. Programação II\n",
      "- Professor Marcelo, ministrando Lab. Programação I\n",
      "- Professor Deisymar, ministrando Banco de Dados I\n"
     ]
    }
   ],
   "source": [
    "class Professor:\n",
    "    def __init__(self, nome, disciplina):\n",
    "        self.nomeProf = nome\n",
    "        self.disciplina = disciplina\n",
    "    \n",
    "    def __str__(self):\n",
    "        return f\"- Professor {self.nomeProf}, ministrando {self.disciplina}\" # Em sobrecarga de método, usa-se o return\n",
    "\n",
    "    #def __del__(self):\n",
    "    #    return f\"Professor {self.nomeProf} deletado!\\n\"\n",
    "    \n",
    "class Escola:\n",
    "    def __init__(self, nome):\n",
    "        self.nomeEscola = nome\n",
    "        self.professores = []\n",
    "\n",
    "    def adicionar_professor(self, professor):\n",
    "        self.professores.append(professor)\n",
    "    \n",
    "    def exibir_detalhes(self):\n",
    "        print(f\"Escola {self.nomeEscola}\")\n",
    "        print(f\"Professores: \")\n",
    "        for prof in self.professores:\n",
    "            print(prof)\n",
    "\n",
    "    #def __del__(self):\n",
    "    #    print(f\"Escola {self.nomeEscola} deletados!\")\n",
    "\n",
    "cefet = Escola(\"CEFET-MG\")\n",
    "lazaro = Professor(\"Lázaro\", \"Lab. Programação II\")\n",
    "marcelo = Professor(\"Marcelo\", \"Lab. Programação I\")\n",
    "deisymar = Professor(\"Deisymar\", \"Banco de Dados I\")\n",
    "\n",
    "cefet.adicionar_professor(lazaro)\n",
    "cefet.adicionar_professor(marcelo)\n",
    "cefet.adicionar_professor(deisymar)\n",
    "cefet.exibir_detalhes()"
   ]
  },
  {
   "cell_type": "markdown",
   "metadata": {
    "id": "4TL8C3dVdAwK"
   },
   "source": [
    "**Exercício 2**\n",
    "\n",
    "Você está desenvolvendo um sistema para uma construtora que gerencia Casas. Cada Casa é composta por Cômodos, e esses Cômodos não podem existir sem a Casa que os contém. Sua tarefa é implementar essa relação de composição entre as classes Casa e Comodo.\n",
    "\n",
    "Crie uma classe Comodo com os seguintes atributos e métodos:\n",
    "\n",
    "* nome (string) - o nome do cômodo (por exemplo, \"Sala\", \"Quarto\", \"Cozinha\").\n",
    "* area (float) - a área do cômodo em metros quadrados.\n",
    "* Método __ init __ para inicializar os atributos.\n",
    "* Método __ str __ para retornar uma representação textual do cômodo.\n",
    "\n",
    "Crie uma classe Casa com os seguintes atributos e métodos:\n",
    "\n",
    "* endereco (string) - o endereço da casa.\n",
    "* comodos (lista de objetos Comodo).\n",
    "* Método __init__ para inicializar o endereço e criar os cômodos da casa.\n",
    "* Método adicionar_comodo para adicionar um novo cômodo à casa.\n",
    "* Método exibir_detalhes para exibir o endereço e os detalhes de cada cômodo da casa.\n",
    "\n",
    "Implemente um programa que:\n",
    "\n",
    "* Crie uma instância de Casa.\n",
    "* Adicione três cômodos à casa usando o método adicionar_comodo.\n",
    "* Exiba os detalhes da casa e seus cômodos usando o método exibir_detalhes.\n",
    "\n",
    "Ao final, o programa deve exibir algo semelhante a:\n",
    "\n",
    "Casa localizada em: Rua das Flores, 123\n",
    "\n",
    "Cômodos:\n",
    "- Nome: Sala, Área: 20.0 m²\n",
    "- Nome: Cozinha, Área: 15.5 m²\n",
    "- Nome: Quarto, Área: 12.0 m²\n"
   ]
  },
  {
   "cell_type": "code",
   "execution_count": 58,
   "metadata": {
    "id": "gD239YThdglY"
   },
   "outputs": [
    {
     "name": "stdout",
     "output_type": "stream",
     "text": [
      "Casa localizada em Rua do Natal, 2512, com 3 comodos: \n",
      "- Cozinha - 20.0 m² de área\n",
      "- Sala - 15.0 m² de área\n",
      "- Quarto - 12.0 m² de área\n"
     ]
    }
   ],
   "source": [
    "class Comodo: \n",
    "    def __init__(self, nome, area):\n",
    "        self.nome = nome\n",
    "        self.area = float(area)\n",
    "    \n",
    "    def __str__(self):\n",
    "        return f\"- {self.nome} - {self.area} m² de área\"\n",
    "    \n",
    "class Casa:\n",
    "    def __init__(self, endereco):\n",
    "        self.endereco = endereco\n",
    "        self.comodos = []\n",
    "    \n",
    "    def add_comodo(self, nome, area):\n",
    "        self.comodos.append(Comodo(nome, area))\n",
    "    \n",
    "    def exibir_detalhes(self):\n",
    "        print(f\"Casa localizada em {self.endereco}, com {len(self.comodos)} comodos: \")\n",
    "        for comodo in self.comodos:\n",
    "            print(comodo)\n",
    "\n",
    "casanatal = Casa(\"Rua do Natal, 2512\")\n",
    "casanatal.add_comodo(\"Cozinha\", 20.0)\n",
    "casanatal.add_comodo(\"Sala\", 15.0)\n",
    "casanatal.add_comodo(\"Quarto\", 12.0)\n",
    "\n",
    "casanatal.exibir_detalhes()\n"
   ]
  },
  {
   "cell_type": "markdown",
   "metadata": {
    "id": "MTVFtjz7qPvc"
   },
   "source": [
    "# Tratamento de Erros e Exceção\n",
    "\n",
    "O tratamento de erros e exceções é uma prática essencial para garantir a robustez e a estabilidade de programas em Python. Durante a execução de um programa, podem ocorrer situações inesperadas, como entradas inválidas, falhas de conexão ou operações matemáticas impossíveis, que geram exceções — eventos que interrompem o fluxo normal do programa.\n",
    "\n",
    "Python oferece uma estrutura eficiente para lidar com essas exceções, permitindo que os desenvolvedores capturem, tratem e respondam a erros de forma controlada, sem encerrar abruptamente a execução. O uso das instruções try, except, else e finally possibilita a criação de blocos de código que detectam e tratam exceções específicas ou genéricas. Além disso, a linguagem permite a criação de exceções personalizadas, proporcionando flexibilidade para lidar com erros específicos do domínio da aplicação.\n",
    "\n",
    "O tratamento de exceções não apenas melhora a experiência do usuário ao evitar falhas inesperadas, mas também facilita a depuração e a manutenção do código, tornando-o mais confiável e seguro."
   ]
  },
  {
   "cell_type": "code",
   "execution_count": 6,
   "metadata": {
    "colab": {
     "base_uri": "https://localhost:8080/"
    },
    "id": "XC5FljdgrQgx",
    "outputId": "65100f5a-c376-406f-e035-165015f613cb"
   },
   "outputs": [
    {
     "name": "stdout",
     "output_type": "stream",
     "text": [
      "Digite um número: 0\n",
      "Erro: Divisão por zero não é permitida.\n"
     ]
    }
   ],
   "source": [
    "try:\n",
    "    num = int(input(\"Digite um número: \"))\n",
    "    resultado = 10 / num\n",
    "    print(f\"Resultado: {resultado}\")\n",
    "except ZeroDivisionError:\n",
    "    print(\"Erro: Divisão por zero não é permitida.\")\n",
    "except ValueError:\n",
    "    print(\"Erro: Entrada inválida. Digite um número.\")\n"
   ]
  },
  {
   "cell_type": "code",
   "execution_count": 7,
   "metadata": {
    "colab": {
     "base_uri": "https://localhost:8080/"
    },
    "id": "mRJf4Js8rUSU",
    "outputId": "e35b20a6-d6d4-45ef-ccd7-ebdb5814e531"
   },
   "outputs": [
    {
     "name": "stdout",
     "output_type": "stream",
     "text": [
      "Erro: O arquivo não foi encontrado.\n"
     ]
    }
   ],
   "source": [
    "try:\n",
    "    with open(\"arquivo_inexistente.txt\", \"r\") as arquivo:\n",
    "        conteudo = arquivo.read()\n",
    "        print(conteudo)\n",
    "except FileNotFoundError:\n",
    "    print(\"Erro: O arquivo não foi encontrado.\")\n"
   ]
  },
  {
   "cell_type": "code",
   "execution_count": 8,
   "metadata": {
    "colab": {
     "base_uri": "https://localhost:8080/"
    },
    "id": "NITJBpxbrpeK",
    "outputId": "f1f3899d-9211-46bf-8d5d-37c6c33e961b"
   },
   "outputs": [
    {
     "name": "stdout",
     "output_type": "stream",
     "text": [
      "Digite o numerador: 2\n",
      "Digite o denominador: a\n",
      "Erro: Entrada inválida. Digite números inteiros.\n"
     ]
    }
   ],
   "source": [
    "try:\n",
    "    num1 = int(input(\"Digite o numerador: \"))\n",
    "    num2 = int(input(\"Digite o deanominador: \"))\n",
    "    resultado = num1 / num2\n",
    "except ZeroDivisionError:\n",
    "    print(\"Erro: Não é possível dividir por zero.\")\n",
    "except ValueError:\n",
    "    print(\"Erro: Entrada inválida. Digite números inteiros.\")\n",
    "else:\n",
    "    print(f\"O resultado da divisão é: {resultado}\")\n"
   ]
  },
  {
   "cell_type": "code",
   "execution_count": 9,
   "metadata": {
    "colab": {
     "base_uri": "https://localhost:8080/"
    },
    "id": "0kG5MiYQrqcJ",
    "outputId": "33d6bbc1-c40f-408b-f0ac-ef2646e96a92"
   },
   "outputs": [
    {
     "name": "stdout",
     "output_type": "stream",
     "text": [
      "Digite o nome do arquivo: eu\n",
      "Erro: O arquivo não foi encontrado.\n"
     ]
    }
   ],
   "source": [
    "try:\n",
    "    nome_arquivo = input(\"Digite o nome do arquivo: \")\n",
    "    with open(nome_arquivo, \"r\") as arquivo:\n",
    "        conteudo = arquivo.read()\n",
    "except FileNotFoundError:\n",
    "    print(\"Erro: O arquivo não foi encontrado.\")\n",
    "except PermissionError:\n",
    "    print(\"Erro: Permissão negada para abrir o arquivo.\")\n",
    "else:\n",
    "    print(\"Arquivo lido com sucesso. Conteúdo:\")\n",
    "    print(conteudo)\n"
   ]
  },
  {
   "cell_type": "code",
   "execution_count": 10,
   "metadata": {
    "colab": {
     "base_uri": "https://localhost:8080/"
    },
    "id": "RI6vrrjMr2fG",
    "outputId": "372a77f7-20f1-4686-d5e4-85833035174d"
   },
   "outputs": [
    {
     "name": "stdout",
     "output_type": "stream",
     "text": [
      "Digite o nome do arquivo para leitura: eu\n",
      "Erro: Arquivo não encontrado.\n",
      "Processo de leitura finalizado, independente de erro.\n"
     ]
    }
   ],
   "source": [
    "try:\n",
    "    nome_arquivo = input(\"Digite o nome do arquivo para leitura: \")\n",
    "    with open(nome_arquivo, \"r\") as arquivo:\n",
    "        conteudo = arquivo.read()\n",
    "        print(\"Conteúdo do arquivo:\", conteudo)\n",
    "except FileNotFoundError:\n",
    "    print(\"Erro: Arquivo não encontrado.\")\n",
    "except PermissionError:\n",
    "    print(\"Erro: Permissão negada.\")\n",
    "finally:\n",
    "    print(\"Processo de leitura finalizado, independente de erro.\")\n"
   ]
  },
  {
   "cell_type": "code",
   "execution_count": 11,
   "metadata": {
    "colab": {
     "base_uri": "https://localhost:8080/"
    },
    "id": "M1chms_yr5iO",
    "outputId": "aa80f335-6d54-4453-e8ea-db156c4aa993"
   },
   "outputs": [
    {
     "name": "stdout",
     "output_type": "stream",
     "text": [
      "Erro ao acessar o banco de dados: no such table: usuarios\n",
      "Conexão com o banco de dados encerrada.\n"
     ]
    }
   ],
   "source": [
    "import sqlite3\n",
    "\n",
    "try:\n",
    "    conexao = sqlite3.connect(\"meu_banco.db\")\n",
    "    cursor = conexao.cursor()\n",
    "    cursor.execute(\"SELECT * FROM usuarios\")\n",
    "    usuarios = cursor.fetchall()\n",
    "    print(\"Usuários:\", usuarios)\n",
    "except sqlite3.DatabaseError as e:\n",
    "    print(f\"Erro ao acessar o banco de dados: {e}\")\n",
    "finally:\n",
    "    if conexao:\n",
    "        conexao.close()\n",
    "        print(\"Conexão com o banco de dados encerrada.\")\n"
   ]
  },
  {
   "cell_type": "markdown",
   "metadata": {
    "id": "-slBdxP6sKbW"
   },
   "source": [
    "**Exercício 3**\n",
    "\n",
    "Você está criando um programa que realiza operações matemáticas (adição, subtração, multiplicação e divisão). O programa deve capturar erros de entrada do usuário e erros matemáticos (como divisão por zero), tratando-os de forma apropriada.\n",
    "\n",
    "Requisitos:\n",
    "\n",
    "O programa deve:\n",
    "* Solicitar ao usuário dois números e uma operação matemática.\n",
    "* Realizar a operação solicitada.\n",
    "* Capturar e exibir erros se o usuário fornecer entradas inválidas ou se ocorrer tentativa de divisão por zero.\n",
    "* Exibir o resultado da operação se não houver erros.\n",
    "* Garantir que a mensagem final seja exibida, independentemente de ocorrerem erros ou não."
   ]
  },
  {
   "cell_type": "code",
   "execution_count": 62,
   "metadata": {},
   "outputs": [
    {
     "name": "stdout",
     "output_type": "stream",
     "text": [
      "Erro de valor could not convert string to float: 'aaa'\n",
      "Obrigada por usar nossa calculadora!\n"
     ]
    }
   ],
   "source": [
    "try: \n",
    "    num1 = float(input(\"Primeiro número: \"))\n",
    "    num2 = float(input(\"Segundo número: \"))\n",
    "    operacao = input(\"Escolha a operação: +, -, =, *, %\")\n",
    "    if operacao == '+':\n",
    "        resultado = num1 + num2\n",
    "    elif operacao == '-':\n",
    "        resultado = num1 - num2\n",
    "    elif operacao == '=':\n",
    "        resultado = num1 == num2\n",
    "    elif operacao == '*':\n",
    "        resultado = num1 * num2\n",
    "    elif operacao == '%':\n",
    "        resultado = num1 % num2\n",
    "    elif operacao == '/':\n",
    "        resultado = num1 / num2\n",
    "    else:\n",
    "        raise ValueError(\"Operação Inválida!\")\n",
    "    print(f\"Resultado: {resultado}\")\n",
    "except ValueError as ve:\n",
    "    print(f\"Erro de valor {ve}\")\n",
    "except ZeroDivisionError as zde:\n",
    "    print(f\"Para divisões, o segundo número deve ser diferente de 0 {zde}\")\n",
    "except Exception as e:\n",
    "    print(f\"Erro inesperado {e}\")\n",
    "finally:\n",
    "    print(\"Obrigada por usar nossa calculadora!\")"
   ]
  }
 ],
 "metadata": {
  "colab": {
   "provenance": []
  },
  "kernelspec": {
   "display_name": "Python 3",
   "name": "python3"
  },
  "language_info": {
   "codemirror_mode": {
    "name": "ipython",
    "version": 3
   },
   "file_extension": ".py",
   "mimetype": "text/x-python",
   "name": "python",
   "nbconvert_exporter": "python",
   "pygments_lexer": "ipython3",
   "version": "3.13.1"
  }
 },
 "nbformat": 4,
 "nbformat_minor": 0
}
