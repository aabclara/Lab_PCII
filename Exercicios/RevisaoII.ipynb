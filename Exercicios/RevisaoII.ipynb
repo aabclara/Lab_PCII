{
 "cells": [
  {
   "cell_type": "markdown",
   "metadata": {},
   "source": [
    "### Atividade 1"
   ]
  },
  {
   "cell_type": "markdown",
   "metadata": {},
   "source": [
    "Implemente duas classes: Retangulo e Circulo. Ambas devem ter um método area() que calcula a área de suas respectivas formas. Em seguida, sobrescreva o operador de adição para permitir a soma das áreas de dois objetos dessas classes.\n",
    "\n",
    "Requisitos:\n",
    "* Retangulo deve receber largura e altura como atributos.\n",
    "* Circulo deve receber o raio como atributo.\n",
    "* Sobrescreva o método __add__ para retornar a soma das áreas."
   ]
  },
  {
   "cell_type": "code",
   "execution_count": 12,
   "metadata": {},
   "outputs": [
    {
     "name": "stdout",
     "output_type": "stream",
     "text": [
      "Área do retângulo 1: 200\n",
      "Área do retângulo 2: 600\n",
      "Soma das áreas dos retângulos: 800\n",
      "Área do círculo 1: 78.54\n",
      "Área do círculo 2: 452.39\n",
      "Soma das áreas dos círculos: 530.93\n"
     ]
    }
   ],
   "source": [
    "from abc import ABC, abstractmethod\n",
    "\n",
    "import math\n",
    "\n",
    "class Figura(ABC):\n",
    "    @abstractmethod\n",
    "    def calcular_area():\n",
    "        pass\n",
    "\n",
    "class Retangulo(Figura):\n",
    "    def __init__(self, larg, alt):\n",
    "        self.larg = larg\n",
    "        self.alt = alt\n",
    "\n",
    "    def calcular_area(self):\n",
    "        return (self.larg * self.alt)\n",
    "    \n",
    "    def __add__(self, outro):\n",
    "        if isinstance(outro, Retangulo):\n",
    "            return (outro.calcular_area() + self.calcular_area())\n",
    "        else:\n",
    "            return(\"Não é um Retangulo\")\n",
    "\n",
    "    \n",
    "class Circulo(Figura):\n",
    "    def __init__(self, raio):\n",
    "        self.raio = raio\n",
    "    \n",
    "    def calcular_area(self):\n",
    "        return ((math.pi * (self.raio)**2))\n",
    "\n",
    "    def __add__(self, outro):\n",
    "        if isinstance(outro, Circulo):\n",
    "            return (outro.calcular_area() + self.calcular_area())\n",
    "        else:\n",
    "            return(\"Não é um Circulo!\")\n",
    "        \n",
    "# TESTES\n",
    "\n",
    "ret = Retangulo(20, 10)\n",
    "print(f\"Área do retângulo 1: {ret.calcular_area()}\")  # 200\n",
    "\n",
    "ret2 = Retangulo(50, 12)\n",
    "print(f\"Área do retângulo 2: {ret2.calcular_area()}\")  # 600\n",
    "\n",
    "print(f\"Soma das áreas dos retângulos: {ret + ret2}\")  # 800\n",
    "\n",
    "cir = Circulo(5)\n",
    "print(f\"Área do círculo 1: {cir.calcular_area():.2f}\")  # ~78.54\n",
    "\n",
    "cir2 = Circulo(12)\n",
    "print(f\"Área do círculo 2: {cir2.calcular_area():.2f}\")  # ~452.39\n",
    "\n",
    "print(f\"Soma das áreas dos círculos: {cir + cir2:.2f}\")  # ~530.93"
   ]
  },
  {
   "cell_type": "markdown",
   "metadata": {},
   "source": [
    "### Atividade 2\n",
    "\n",
    "Crie uma classe Biblioteca que gerencie livros usando encapsulamento. A classe deve permitir adicionar e remover livros de forma controlada, e expor um método público para listar todos os livros disponíveis.\n",
    "\n",
    "Requisitos:\n",
    "\n",
    "* Use métodos privados para manipular a lista de livros.\n",
    "* Exponha os métodos adicionar_livro(nome) e remover_livro(nome).\n",
    "* Implemente listar_livros() para retornar os livros adicionados.\n"
   ]
  },
  {
   "cell_type": "code",
   "execution_count": 4,
   "metadata": {},
   "outputs": [
    {
     "name": "stdout",
     "output_type": "stream",
     "text": [
      "Livro 'o senhor dos anéis' cadastrado!\n",
      "Livro 'harry potter' cadastrado!\n",
      "Livro 'O Senhor dos Anéis' excluído!\n",
      "'O Mago' informado não existe na biblioteca!\n"
     ]
    }
   ],
   "source": [
    "class Biblioteca:\n",
    "    def __init__(self, nome):\n",
    "        self._nome = nome\n",
    "        self._livros = {}\n",
    "\n",
    "    def adicionar_livro(self, titulo, autor):\n",
    "        self._livros[titulo.capitalize()] = autor\n",
    "        return(f\"Livro '{titulo}' cadastrado!\")\n",
    "    \n",
    "    def remover_livro(self, tituloR):\n",
    "        achei = False\n",
    "        tituloC = tituloR.capitalize()\n",
    "        if tituloC in self._livros:\n",
    "            del self._livros[tituloC]\n",
    "            return(f\"Livro '{tituloR}' excluído!\")\n",
    "            achei = True    \n",
    "        if achei == False:\n",
    "            return(f\"'{tituloR}' informado não existe na biblioteca!\")\n",
    "    \n",
    "    def listar_livros(self):\n",
    "        for livro, autor in self._livros.items:\n",
    "            print(f\"'{livro}': {autor}\")\n",
    "\n",
    "\n",
    "# Criando uma instância de Biblioteca\n",
    "biblioteca = Biblioteca(\"Biblioteca Central\")\n",
    "\n",
    "# Adicionando livros\n",
    "print(biblioteca.adicionar_livro(\"o senhor dos anéis\", \"J.R.R. Tolkien\"))\n",
    "print(biblioteca.adicionar_livro(\"harry potter\", \"J.K. Rowling\"))\n",
    "\n",
    "# Tentando remover um livro existente\n",
    "print(biblioteca.remover_livro(\"O Senhor dos Anéis\"))  # Saída: Livro excluído!\n",
    "\n",
    "# Tentando remover um livro inexistente\n",
    "print(biblioteca.remover_livro(\"O Mago\"))  # Saída: O livro informado não existe na biblioteca!"
   ]
  },
  {
   "cell_type": "markdown",
   "metadata": {},
   "source": [
    "### Atividade 3\n",
    "\n",
    "Crie uma classe abstrata Pagamento que define o método processar_pagamento(). Em seguida, implemente duas subclasses: CartaoCredito e Pix, que sobrescrevam o método de forma específica. Por fim, crie uma classe Cliente que herda de ambas para combinar métodos de pagamento.\n",
    "\n",
    "Requisitos:\n",
    "* CartaoCredito deve validar o número do cartão.\n",
    "* Pix deve validar a chave PIX.\n",
    "* Cliente deve combinar as duas formas de pagamento."
   ]
  },
  {
   "cell_type": "code",
   "execution_count": 5,
   "metadata": {},
   "outputs": [
    {
     "name": "stdout",
     "output_type": "stream",
     "text": [
      "Pagamento aprovado.\n",
      "Pagamento recusado: Saldo indisponível.\n",
      "Pagamento recusado: pagamento maior que o limite total disponível.\n"
     ]
    }
   ],
   "source": [
    "from abc import ABC, abstractmethod\n",
    "\n",
    "class Pagamento(ABC):\n",
    "    @abstractmethod\n",
    "    def processar_pagamento(self):\n",
    "        pass\n",
    "\n",
    "class CartaoCredito(Pagamento):\n",
    "    def __init__(self, numCartao, limite, limiteDisp):\n",
    "        self.__numCartao = numCartao\n",
    "        self._limite = limite\n",
    "        self._limiteDisp = limiteDisp\n",
    "\n",
    "    def processar_pagamento(self, valor):\n",
    "        if valor > self._limite:\n",
    "            return \"Pagamento recusado: pagamento maior que o limite total disponível.\"\n",
    "        elif valor > self._limiteDisp:\n",
    "            return \"Pagamento recusado: Saldo indisponível.\"\n",
    "        else:\n",
    "            self._limiteDisp -= valor\n",
    "            return \"Pagamento aprovado.\"\n",
    "\n",
    "class Pix(Pagamento):\n",
    "    def __init__(self, saldo):\n",
    "        self._saldo = saldo\n",
    "\n",
    "    def processar_pagamento(self, valor):\n",
    "        if valor > self._saldo:\n",
    "            return \"Pagamento recusado: Saldo indisponível.\"\n",
    "        else:\n",
    "            self._saldo -= valor\n",
    "            return \"Pagamento aprovado.\"\n",
    "\n",
    "# TESTES\n",
    "nuBank = CartaoCredito('012223', 1000, 1000)\n",
    "BancoBrasil = Pix(500)\n",
    "\n",
    "print(nuBank.processar_pagamento(500))  # Deve retornar \"Pagamento aprovado.\"\n",
    "print(nuBank.processar_pagamento(501))  # Deve retornar \"Pagamento recusado: Saldo indisponível.\"\n",
    "print(nuBank.processar_pagamento(1001)) # Deve retornar \"Pagamento recusado: pagamento maior que o limite total disponível.\"\n"
   ]
  },
  {
   "cell_type": "markdown",
   "metadata": {},
   "source": [
    "### Atividade 4: \n",
    "Implemente um sistema de gestão de projetos onde:\n",
    "\n",
    "* A classe Projeto possui tarefas associadas (agregação).\n",
    "* A classe Tarefa tem subtarefas que não podem existir fora de uma tarefa principal (composição).\n",
    "Requisitos:\n",
    "\n",
    "\n",
    "* Projeto deve permitir adicionar e listar tarefas.\n",
    "* Tarefa deve permitir adicionar e listar subtarefas.\n",
    "* Crie um exemplo instanciando um projeto com pelo menos duas tarefas e subtarefas."
   ]
  },
  {
   "cell_type": "code",
   "execution_count": null,
   "metadata": {},
   "outputs": [],
   "source": [
    "class Empregado:\n",
    "    def __init__(self, nome, cargo):\n",
    "        self.nome = nome\n",
    "        self.cargo = cargo\n",
    "\n",
    "class Tarefas:\n",
    "    def __init__(self, chefe, descricao):\n",
    "        self.chefe = chefe"
   ]
  }
 ],
 "metadata": {
  "kernelspec": {
   "display_name": "Python 3",
   "language": "python",
   "name": "python3"
  },
  "language_info": {
   "codemirror_mode": {
    "name": "ipython",
    "version": 3
   },
   "file_extension": ".py",
   "mimetype": "text/x-python",
   "name": "python",
   "nbconvert_exporter": "python",
   "pygments_lexer": "ipython3",
   "version": "3.13.0"
  }
 },
 "nbformat": 4,
 "nbformat_minor": 2
}
